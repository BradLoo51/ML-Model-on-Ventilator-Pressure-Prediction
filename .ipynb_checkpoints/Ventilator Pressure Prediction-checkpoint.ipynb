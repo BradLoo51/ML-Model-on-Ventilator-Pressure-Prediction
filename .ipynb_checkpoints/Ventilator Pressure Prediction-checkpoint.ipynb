{
 "cells": [
  {
   "cell_type": "markdown",
   "id": "812a3218",
   "metadata": {},
   "source": [
    "# Introduction\n",
    "\n",
    "This project is implementing machine learning solutions to the Covid-19 ventilator control problem. \n",
    "\n",
    "Dataset used: https://www.kaggle.com/competitions/ventilator-pressure-prediction/overview\n",
    "\n",
    "\n",
    "# Machine Learning Formulation\n",
    "**Type of Machine Learning Problem**  \n",
    "Time series regression problem\n",
    "\n",
    "**Task, T**  \n",
    "Predict the airway pressure in the respiratory circuit during the breath\n",
    "\n",
    "**Performance, P**  \n",
    "Mean squared error (MSE) and Mean absolute error (MAE) between predicted pressure and actual pressure during the inspiratory phase of each breath\n",
    "\n",
    "**Experience, E**  \n",
    "Lungs related information (percentage of opening of the inspiratory solenoid valve, state of exploratory valve) from each patient of a particular timestep \n"
   ]
  },
  {
   "cell_type": "markdown",
   "id": "b40409c3",
   "metadata": {},
   "source": [
    "# Loading all pre-requisite libraries"
   ]
  },
  {
   "cell_type": "code",
   "execution_count": 16,
   "id": "0f361d4b",
   "metadata": {},
   "outputs": [],
   "source": [
    "import numpy as np\n",
    "import pandas as pd\n",
    "import seaborn as sb\n",
    "import matplotlib.pyplot as plt\n",
    "import tensorflow as tf\n",
    "from tensorflow import keras\n",
    "from tensorflow.keras import layers\n",
    "from sklearn import metrics\n",
    "from sklearn.linear_model import LinearRegression\n",
    "from sklearn.tree import DecisionTreeRegressor\n",
    "from sklearn.neighbors import KNeighborsRegressor\n",
    "from sklearn.multioutput import MultiOutputRegressor\n",
    "from sklearn.ensemble import RandomForestRegressor\n",
    "from sklearn.model_selection import train_test_split\n",
    "from sklearn.model_selection import RandomizedSearchCV\n",
    "from sklearn.preprocessing import StandardScaler\n",
    "from xgboost import XGBRegressor\n",
    "from catboost import CatBoostRegressor\n",
    "from time import time"
   ]
  },
  {
   "cell_type": "markdown",
   "id": "3749eb25",
   "metadata": {},
   "source": [
    "---\n",
    "# Data Preprocessing\n",
    "\n",
    "## 1. Loading data and understanding the dataset\n",
    "\n",
    "| Features | Description |\n",
    "| :---------: | :---------- |\n",
    "| id | Globally-unique time step identifier across an entire file |\n",
    "| breath_id | Globally-unique time step for breaths |\n",
    "| R | Lung attribute indicating how restricted the airway is (in cmH2O/L/S). Physically, this is the change in pressure per change in flow (air volume per time). Intuitively, one can imagine blowing up a balloon through a straw. We can change R by changing the diameter of the straw, with higher R being harder to blow. |\n",
    "| C | Lung attribute indicating how compliant the lung is (in mL/cmH2O). Physically, this is the change in volume per change in pressure. Intuitively, one can imagine the same balloon example. We can change C by changing the thickness of the balloon’s latex, with higher C having thinner latex and easier to blow. |\n",
    "| time_step | The actual time stamp. |\n",
    "| u_in | The control input for the inspiratory solenoid valve. Ranges from 0 to 100. |\n",
    "| u_out | The control input for the exploratory solenoid valve. Either 0 or 1. |\n",
    "| pressure | The airway pressure measured in the respiratory circuit, measured in cmH2O. |"
   ]
  },
  {
   "cell_type": "code",
   "execution_count": 17,
   "id": "219c3b52",
   "metadata": {},
   "outputs": [],
   "source": [
    "# The data sets (train, test) is loaded\n",
    "train = pd.read_csv('train.csv')\n",
    "test = pd.read_csv('test.csv')"
   ]
  },
  {
   "cell_type": "code",
   "execution_count": 18,
   "id": "619d5dbf",
   "metadata": {},
   "outputs": [
    {
     "data": {
      "text/html": [
       "<div>\n",
       "<style scoped>\n",
       "    .dataframe tbody tr th:only-of-type {\n",
       "        vertical-align: middle;\n",
       "    }\n",
       "\n",
       "    .dataframe tbody tr th {\n",
       "        vertical-align: top;\n",
       "    }\n",
       "\n",
       "    .dataframe thead th {\n",
       "        text-align: right;\n",
       "    }\n",
       "</style>\n",
       "<table border=\"1\" class=\"dataframe\">\n",
       "  <thead>\n",
       "    <tr style=\"text-align: right;\">\n",
       "      <th></th>\n",
       "      <th>id</th>\n",
       "      <th>breath_id</th>\n",
       "      <th>R</th>\n",
       "      <th>C</th>\n",
       "      <th>time_step</th>\n",
       "      <th>u_in</th>\n",
       "      <th>u_out</th>\n",
       "      <th>pressure</th>\n",
       "    </tr>\n",
       "  </thead>\n",
       "  <tbody>\n",
       "    <tr>\n",
       "      <th>0</th>\n",
       "      <td>1</td>\n",
       "      <td>1</td>\n",
       "      <td>20</td>\n",
       "      <td>50</td>\n",
       "      <td>0.000000</td>\n",
       "      <td>0.083334</td>\n",
       "      <td>0</td>\n",
       "      <td>5.837492</td>\n",
       "    </tr>\n",
       "    <tr>\n",
       "      <th>1</th>\n",
       "      <td>2</td>\n",
       "      <td>1</td>\n",
       "      <td>20</td>\n",
       "      <td>50</td>\n",
       "      <td>0.033652</td>\n",
       "      <td>18.383041</td>\n",
       "      <td>0</td>\n",
       "      <td>5.907794</td>\n",
       "    </tr>\n",
       "    <tr>\n",
       "      <th>2</th>\n",
       "      <td>3</td>\n",
       "      <td>1</td>\n",
       "      <td>20</td>\n",
       "      <td>50</td>\n",
       "      <td>0.067514</td>\n",
       "      <td>22.509278</td>\n",
       "      <td>0</td>\n",
       "      <td>7.876254</td>\n",
       "    </tr>\n",
       "    <tr>\n",
       "      <th>3</th>\n",
       "      <td>4</td>\n",
       "      <td>1</td>\n",
       "      <td>20</td>\n",
       "      <td>50</td>\n",
       "      <td>0.101542</td>\n",
       "      <td>22.808822</td>\n",
       "      <td>0</td>\n",
       "      <td>11.742872</td>\n",
       "    </tr>\n",
       "    <tr>\n",
       "      <th>4</th>\n",
       "      <td>5</td>\n",
       "      <td>1</td>\n",
       "      <td>20</td>\n",
       "      <td>50</td>\n",
       "      <td>0.135756</td>\n",
       "      <td>25.355850</td>\n",
       "      <td>0</td>\n",
       "      <td>12.234987</td>\n",
       "    </tr>\n",
       "    <tr>\n",
       "      <th>...</th>\n",
       "      <td>...</td>\n",
       "      <td>...</td>\n",
       "      <td>...</td>\n",
       "      <td>...</td>\n",
       "      <td>...</td>\n",
       "      <td>...</td>\n",
       "      <td>...</td>\n",
       "      <td>...</td>\n",
       "    </tr>\n",
       "    <tr>\n",
       "      <th>77</th>\n",
       "      <td>78</td>\n",
       "      <td>1</td>\n",
       "      <td>20</td>\n",
       "      <td>50</td>\n",
       "      <td>2.621773</td>\n",
       "      <td>4.981847</td>\n",
       "      <td>1</td>\n",
       "      <td>6.329607</td>\n",
       "    </tr>\n",
       "    <tr>\n",
       "      <th>78</th>\n",
       "      <td>79</td>\n",
       "      <td>1</td>\n",
       "      <td>20</td>\n",
       "      <td>50</td>\n",
       "      <td>2.655746</td>\n",
       "      <td>4.984683</td>\n",
       "      <td>1</td>\n",
       "      <td>6.540513</td>\n",
       "    </tr>\n",
       "    <tr>\n",
       "      <th>79</th>\n",
       "      <td>80</td>\n",
       "      <td>1</td>\n",
       "      <td>20</td>\n",
       "      <td>50</td>\n",
       "      <td>2.689766</td>\n",
       "      <td>4.987079</td>\n",
       "      <td>1</td>\n",
       "      <td>6.470211</td>\n",
       "    </tr>\n",
       "    <tr>\n",
       "      <th>80</th>\n",
       "      <td>81</td>\n",
       "      <td>2</td>\n",
       "      <td>20</td>\n",
       "      <td>20</td>\n",
       "      <td>0.000000</td>\n",
       "      <td>12.184338</td>\n",
       "      <td>0</td>\n",
       "      <td>6.048398</td>\n",
       "    </tr>\n",
       "    <tr>\n",
       "      <th>81</th>\n",
       "      <td>82</td>\n",
       "      <td>2</td>\n",
       "      <td>20</td>\n",
       "      <td>20</td>\n",
       "      <td>0.033998</td>\n",
       "      <td>13.980205</td>\n",
       "      <td>0</td>\n",
       "      <td>7.524743</td>\n",
       "    </tr>\n",
       "  </tbody>\n",
       "</table>\n",
       "<p>82 rows × 8 columns</p>\n",
       "</div>"
      ],
      "text/plain": [
       "    id  breath_id   R   C  time_step       u_in  u_out   pressure\n",
       "0    1          1  20  50   0.000000   0.083334      0   5.837492\n",
       "1    2          1  20  50   0.033652  18.383041      0   5.907794\n",
       "2    3          1  20  50   0.067514  22.509278      0   7.876254\n",
       "3    4          1  20  50   0.101542  22.808822      0  11.742872\n",
       "4    5          1  20  50   0.135756  25.355850      0  12.234987\n",
       "..  ..        ...  ..  ..        ...        ...    ...        ...\n",
       "77  78          1  20  50   2.621773   4.981847      1   6.329607\n",
       "78  79          1  20  50   2.655746   4.984683      1   6.540513\n",
       "79  80          1  20  50   2.689766   4.987079      1   6.470211\n",
       "80  81          2  20  20   0.000000  12.184338      0   6.048398\n",
       "81  82          2  20  20   0.033998  13.980205      0   7.524743\n",
       "\n",
       "[82 rows x 8 columns]"
      ]
     },
     "execution_count": 18,
     "metadata": {},
     "output_type": "execute_result"
    }
   ],
   "source": [
    "# Display the first 82 rows of the train dataset\n",
    "train.head(82)"
   ]
  },
  {
   "cell_type": "markdown",
   "id": "46f539bb",
   "metadata": {},
   "source": [
    "After observing the train dataset, we discover that the **breath_id** changes for every 80 rows of instances. \n",
    "\n",
    "Therefore, we concluded that every 80 rows of data represents the lungs information of one patient."
   ]
  },
  {
   "cell_type": "code",
   "execution_count": 19,
   "id": "d1b2a97e",
   "metadata": {},
   "outputs": [
    {
     "data": {
      "text/html": [
       "<div>\n",
       "<style scoped>\n",
       "    .dataframe tbody tr th:only-of-type {\n",
       "        vertical-align: middle;\n",
       "    }\n",
       "\n",
       "    .dataframe tbody tr th {\n",
       "        vertical-align: top;\n",
       "    }\n",
       "\n",
       "    .dataframe thead th {\n",
       "        text-align: right;\n",
       "    }\n",
       "</style>\n",
       "<table border=\"1\" class=\"dataframe\">\n",
       "  <thead>\n",
       "    <tr style=\"text-align: right;\">\n",
       "      <th></th>\n",
       "      <th>id</th>\n",
       "      <th>breath_id</th>\n",
       "      <th>R</th>\n",
       "      <th>C</th>\n",
       "      <th>time_step</th>\n",
       "      <th>u_in</th>\n",
       "      <th>u_out</th>\n",
       "    </tr>\n",
       "  </thead>\n",
       "  <tbody>\n",
       "    <tr>\n",
       "      <th>0</th>\n",
       "      <td>1</td>\n",
       "      <td>0</td>\n",
       "      <td>5</td>\n",
       "      <td>20</td>\n",
       "      <td>0.000000</td>\n",
       "      <td>0.000000</td>\n",
       "      <td>0</td>\n",
       "    </tr>\n",
       "    <tr>\n",
       "      <th>1</th>\n",
       "      <td>2</td>\n",
       "      <td>0</td>\n",
       "      <td>5</td>\n",
       "      <td>20</td>\n",
       "      <td>0.031904</td>\n",
       "      <td>7.515046</td>\n",
       "      <td>0</td>\n",
       "    </tr>\n",
       "    <tr>\n",
       "      <th>2</th>\n",
       "      <td>3</td>\n",
       "      <td>0</td>\n",
       "      <td>5</td>\n",
       "      <td>20</td>\n",
       "      <td>0.063827</td>\n",
       "      <td>14.651675</td>\n",
       "      <td>0</td>\n",
       "    </tr>\n",
       "    <tr>\n",
       "      <th>3</th>\n",
       "      <td>4</td>\n",
       "      <td>0</td>\n",
       "      <td>5</td>\n",
       "      <td>20</td>\n",
       "      <td>0.095751</td>\n",
       "      <td>21.230610</td>\n",
       "      <td>0</td>\n",
       "    </tr>\n",
       "    <tr>\n",
       "      <th>4</th>\n",
       "      <td>5</td>\n",
       "      <td>0</td>\n",
       "      <td>5</td>\n",
       "      <td>20</td>\n",
       "      <td>0.127644</td>\n",
       "      <td>26.320956</td>\n",
       "      <td>0</td>\n",
       "    </tr>\n",
       "  </tbody>\n",
       "</table>\n",
       "</div>"
      ],
      "text/plain": [
       "   id  breath_id  R   C  time_step       u_in  u_out\n",
       "0   1          0  5  20   0.000000   0.000000      0\n",
       "1   2          0  5  20   0.031904   7.515046      0\n",
       "2   3          0  5  20   0.063827  14.651675      0\n",
       "3   4          0  5  20   0.095751  21.230610      0\n",
       "4   5          0  5  20   0.127644  26.320956      0"
      ]
     },
     "execution_count": 19,
     "metadata": {},
     "output_type": "execute_result"
    }
   ],
   "source": [
    "# Display the first 5 rows of the test dataset\n",
    "test.head()"
   ]
  },
  {
   "cell_type": "code",
   "execution_count": 20,
   "id": "902c8ac0",
   "metadata": {},
   "outputs": [
    {
     "name": "stdout",
     "output_type": "stream",
     "text": [
      "Train Data Shape:  (6036000, 8)\n",
      "Test Data Shape:  (4024000, 7)\n"
     ]
    }
   ],
   "source": [
    "# Checking the quantities rows of dataset with its variable\n",
    "print(\"Train Data Shape: \" , train.shape)\n",
    "print(\"Test Data Shape: \", test.shape)"
   ]
  },
  {
   "cell_type": "markdown",
   "id": "62e70cac",
   "metadata": {},
   "source": [
    "## 2. Checking the completeness of the dataset\n",
    "To ensure that all required data is known."
   ]
  },
  {
   "cell_type": "code",
   "execution_count": 21,
   "id": "f7139328",
   "metadata": {},
   "outputs": [
    {
     "name": "stdout",
     "output_type": "stream",
     "text": [
      "Train Dataset\n",
      "id           0\n",
      "breath_id    0\n",
      "R            0\n",
      "C            0\n",
      "time_step    0\n",
      "u_in         0\n",
      "u_out        0\n",
      "pressure     0\n",
      "dtype: int64\n",
      "\n",
      "Test Dataset\n",
      "id           0\n",
      "breath_id    0\n",
      "R            0\n",
      "C            0\n",
      "time_step    0\n",
      "u_in         0\n",
      "u_out        0\n",
      "dtype: int64\n"
     ]
    }
   ],
   "source": [
    "# Checking if there are any missing values in the dataset (Returns True if it detects one)\n",
    "\n",
    "print('Train Dataset')\n",
    "print(train.isnull().sum())\n",
    "print('\\nTest Dataset')\n",
    "print(test.isnull().sum())"
   ]
  },
  {
   "cell_type": "markdown",
   "id": "d59f4adb",
   "metadata": {},
   "source": [
    "## 3. Checking the uniqueness of the dataset\n",
    "To ensure that there are no duplicate datas which may cause overfitting."
   ]
  },
  {
   "cell_type": "code",
   "execution_count": 22,
   "id": "53be05b5",
   "metadata": {},
   "outputs": [
    {
     "name": "stdout",
     "output_type": "stream",
     "text": [
      "The number of duplicated datas in the training dataset is:  0\n",
      "The number of duplicated datas in the testing dataset is:  0\n"
     ]
    }
   ],
   "source": [
    "# Checking if there are any duplicated values in the dataset (Returns True if it detects one)\n",
    "\n",
    "print(\"The number of duplicated datas in the training dataset is: \", train.duplicated().sum())\n",
    "print(\"The number of duplicated datas in the testing dataset is: \", test.duplicated().sum())"
   ]
  },
  {
   "cell_type": "markdown",
   "id": "4a32566b",
   "metadata": {},
   "source": [
    "## 4. Visualizing correlation of variables using heatmap"
   ]
  },
  {
   "cell_type": "code",
   "execution_count": 23,
   "id": "11600222",
   "metadata": {},
   "outputs": [
    {
     "data": {
      "text/plain": [
       "<AxesSubplot:>"
      ]
     },
     "execution_count": 23,
     "metadata": {},
     "output_type": "execute_result"
    },
    {
     "data": {
      "image/png": "[encoded data removed]",
      "text/plain": [
       "<Figure size 1080x720 with 2 Axes>"
      ]
     },
     "metadata": {
      "needs_background": "light"
     },
     "output_type": "display_data"
    }
   ],
   "source": [
    "plt.figure(figsize = (15, 10))\n",
    "sb.heatmap(train.corr(), vmin = -1, vmax = 1, annot = True, fmt = \".2f\")"
   ]
  },
  {
   "cell_type": "markdown",
   "id": "02ff5911",
   "metadata": {},
   "source": [
    "From the heatmap above, it can be seen that the variables: **time_step, u_in, u_out**  and **pressure** are more correlated. \n",
    "\n",
    "Therefore, we decided to remove **id, breath_id, R** and **C** from the dataset before fitting it into our machine learning model."
   ]
  },
  {
   "cell_type": "code",
   "execution_count": 24,
   "id": "4a7e7857",
   "metadata": {},
   "outputs": [
    {
     "data": {
      "text/html": [
       "<div>\n",
       "<style scoped>\n",
       "    .dataframe tbody tr th:only-of-type {\n",
       "        vertical-align: middle;\n",
       "    }\n",
       "\n",
       "    .dataframe tbody tr th {\n",
       "        vertical-align: top;\n",
       "    }\n",
       "\n",
       "    .dataframe thead th {\n",
       "        text-align: right;\n",
       "    }\n",
       "</style>\n",
       "<table border=\"1\" class=\"dataframe\">\n",
       "  <thead>\n",
       "    <tr style=\"text-align: right;\">\n",
       "      <th></th>\n",
       "      <th>time_step</th>\n",
       "      <th>u_in</th>\n",
       "      <th>u_out</th>\n",
       "      <th>pressure</th>\n",
       "    </tr>\n",
       "  </thead>\n",
       "  <tbody>\n",
       "    <tr>\n",
       "      <th>0</th>\n",
       "      <td>0.000000</td>\n",
       "      <td>0.083334</td>\n",
       "      <td>0</td>\n",
       "      <td>5.837492</td>\n",
       "    </tr>\n",
       "    <tr>\n",
       "      <th>1</th>\n",
       "      <td>0.033652</td>\n",
       "      <td>18.383041</td>\n",
       "      <td>0</td>\n",
       "      <td>5.907794</td>\n",
       "    </tr>\n",
       "    <tr>\n",
       "      <th>2</th>\n",
       "      <td>0.067514</td>\n",
       "      <td>22.509278</td>\n",
       "      <td>0</td>\n",
       "      <td>7.876254</td>\n",
       "    </tr>\n",
       "    <tr>\n",
       "      <th>3</th>\n",
       "      <td>0.101542</td>\n",
       "      <td>22.808822</td>\n",
       "      <td>0</td>\n",
       "      <td>11.742872</td>\n",
       "    </tr>\n",
       "    <tr>\n",
       "      <th>4</th>\n",
       "      <td>0.135756</td>\n",
       "      <td>25.355850</td>\n",
       "      <td>0</td>\n",
       "      <td>12.234987</td>\n",
       "    </tr>\n",
       "  </tbody>\n",
       "</table>\n",
       "</div>"
      ],
      "text/plain": [
       "   time_step       u_in  u_out   pressure\n",
       "0   0.000000   0.083334      0   5.837492\n",
       "1   0.033652  18.383041      0   5.907794\n",
       "2   0.067514  22.509278      0   7.876254\n",
       "3   0.101542  22.808822      0  11.742872\n",
       "4   0.135756  25.355850      0  12.234987"
      ]
     },
     "execution_count": 24,
     "metadata": {},
     "output_type": "execute_result"
    }
   ],
   "source": [
    "train_drop = train.drop(['id', 'breath_id','R','C'], axis=1)\n",
    "train_drop.head()"
   ]
  },
  {
   "cell_type": "markdown",
   "id": "bb8d547f",
   "metadata": {},
   "source": [
    "## 5. Visualizing distribution of data using boxplot"
   ]
  },
  {
   "cell_type": "code",
   "execution_count": 25,
   "id": "043a9f62",
   "metadata": {},
   "outputs": [
    {
     "data": {
      "text/plain": [
       "<AxesSubplot:>"
      ]
     },
     "execution_count": 25,
     "metadata": {},
     "output_type": "execute_result"
    },
    {
     "data": {
      "image/png": "[encoded data removed]",
      "text/plain": [
       "<Figure size 432x288 with 1 Axes>"
      ]
     },
     "metadata": {
      "needs_background": "light"
     },
     "output_type": "display_data"
    }
   ],
   "source": [
    "sb.boxplot(data = train_drop)"
   ]
  },
  {
   "cell_type": "markdown",
   "id": "73f458d7",
   "metadata": {},
   "source": [
    "From the botplot above, we can observed many outliers present in our dataset from **u_in** and **pressure**.\n",
    "\n",
    "Hence, we are not scaling our dataset because an outlier may have very big effect towards the scaled mean and scaled standard deviation."
   ]
  },
  {
   "cell_type": "markdown",
   "id": "38c03101",
   "metadata": {},
   "source": [
    "## 6. Deciding a machine learning model and processing the data\n",
    "\n",
    "As the dataset provided is arranged in a time-series manner, the first obvious choice in selecting an algorithm to build the model would be the **Recurrent Neural Network**.\n",
    "\n",
    "After selecting the model, we must process the dataset into an appropriate form so it can be fit into the model without any problem."
   ]
  },
  {
   "cell_type": "code",
   "execution_count": 26,
   "id": "c3c92285",
   "metadata": {},
   "outputs": [],
   "source": [
    "training = np.array(train_drop[['time_step','u_in', 'u_out']], dtype='float32')\n",
    "target = np.array(train_drop['pressure'], dtype='float32')"
   ]
  },
  {
   "cell_type": "code",
   "execution_count": 27,
   "id": "ebf336d2",
   "metadata": {},
   "outputs": [
    {
     "name": "stdout",
     "output_type": "stream",
     "text": [
      "Number of batches in the training set: 75450\n",
      "Number of data per batch: 80\n",
      "Number of attribute used: 3\n"
     ]
    }
   ],
   "source": [
    "index = len(np.unique(train.breath_id))\n",
    "data_per_batch = len(train[train.breath_id==1])\n",
    "attribute = len(training[0])\n",
    "\n",
    "print(\"Number of batches in the training set:\" , index)\n",
    "print(\"Number of data per batch:\" , data_per_batch)\n",
    "print(\"Number of attribute used:\" , attribute)"
   ]
  },
  {
   "cell_type": "code",
   "execution_count": 28,
   "id": "6336e3a7",
   "metadata": {},
   "outputs": [
    {
     "name": "stdout",
     "output_type": "stream",
     "text": [
      "Training Data Shape:  (75450, 80, 3)\n",
      "Target Data Shape:  (75450, 80, 1)\n"
     ]
    }
   ],
   "source": [
    "training = np.reshape(training, (index, data_per_batch, attribute))\n",
    "target = np.reshape(target, (index, data_per_batch, 1))\n",
    "\n",
    "print('Training Data Shape: ', training.shape)\n",
    "print('Target Data Shape: ', target.shape)"
   ]
  },
  {
   "cell_type": "code",
   "execution_count": 29,
   "id": "a0032680",
   "metadata": {},
   "outputs": [],
   "source": [
    "train_x, test_x, train_y, test_y = train_test_split(training, target, test_size = 0.2, random_state=159)\n",
    "test_y = np.reshape(test_y, (test_y.shape[0], test_y.shape[1]))"
   ]
  },
  {
   "cell_type": "markdown",
   "id": "797be0e2",
   "metadata": {},
   "source": [
    "---\n",
    "# Building and training model\n",
    "\n",
    "Each and every model will be evaluated by the MSE value, (mean squared error) and MAE (mean absolute error) between the actual target values and the predicted values.\n",
    "\n",
    "Lower MSE and MAE value indicates better performance regarding to the dataset. The MSE and MAE value of each algorithm will be compared."
   ]
  },
  {
   "cell_type": "markdown",
   "id": "7217945c",
   "metadata": {},
   "source": [
    "## Recurrent Neural Network (RNN)"
   ]
  },
  {
   "cell_type": "markdown",
   "id": "92797f1d",
   "metadata": {},
   "source": [
    "We use a variant of RNN which is Long-Short Term Memory Network that is effective in predicting data over a period of time,\n",
    "which is suitable for this instance which includes time_step.\n",
    "\n",
    "The activation function for the model will be Rectifier Linear Unit (RELU).\n",
    "The function returns 0 if it receives any negative input, but for any positive value x it returns that value back"
   ]
  },
  {
   "cell_type": "code",
   "execution_count": 15,
   "id": "4debb28c",
   "metadata": {
    "scrolled": true
   },
   "outputs": [
    {
     "name": "stdout",
     "output_type": "stream",
     "text": [
      "Model: \"sequential\"\n",
      "_________________________________________________________________\n",
      " Layer (type)                Output Shape              Param #   \n",
      "=================================================================\n",
      " lstm (LSTM)                 (None, 80, 128)           67584     \n",
      "                                                                 \n",
      " lstm_1 (LSTM)               (None, 80, 64)            49408     \n",
      "                                                                 \n",
      " dense (Dense)               (None, 80, 1)             65        \n",
      "                                                                 \n",
      "=================================================================\n",
      "Total params: 117,057\n",
      "Trainable params: 117,057\n",
      "Non-trainable params: 0\n",
      "_________________________________________________________________\n",
      "Epoch 1/50\n",
      "1887/1887 [==============================] - 115s 60ms/step - loss: 2.0931 - mse: 16.9245\n",
      "Epoch 2/50\n",
      "1887/1887 [==============================] - 114s 61ms/step - loss: 1.4750 - mse: 8.6789\n",
      "Epoch 3/50\n",
      "1887/1887 [==============================] - 115s 61ms/step - loss: 1.3171 - mse: 7.3496\n",
      "Epoch 4/50\n",
      "1887/1887 [==============================] - 124s 66ms/step - loss: 1.1971 - mse: 6.2940\n",
      "Epoch 5/50\n",
      "1887/1887 [==============================] - 120s 64ms/step - loss: 1.1183 - mse: 5.6503\n",
      "Epoch 6/50\n",
      "1887/1887 [==============================] - 120s 64ms/step - loss: 1.0550 - mse: 5.1520\n",
      "Epoch 7/50\n",
      "1887/1887 [==============================] - 123s 65ms/step - loss: 1.0066 - mse: 4.8065\n",
      "Epoch 8/50\n",
      "1887/1887 [==============================] - 122s 65ms/step - loss: 0.9626 - mse: 4.4405\n",
      "Epoch 9/50\n",
      "1887/1887 [==============================] - 122s 65ms/step - loss: 0.9287 - mse: 4.1923\n",
      "Epoch 10/50\n",
      "1887/1887 [==============================] - 127s 67ms/step - loss: 0.8996 - mse: 3.9815\n",
      "Epoch 11/50\n",
      "1887/1887 [==============================] - 127s 67ms/step - loss: 0.8733 - mse: 3.8103\n",
      "Epoch 12/50\n",
      "1887/1887 [==============================] - 126s 67ms/step - loss: 0.8515 - mse: 3.6721\n",
      "Epoch 13/50\n",
      "1887/1887 [==============================] - 125s 66ms/step - loss: 0.8270 - mse: 3.5097\n",
      "Epoch 14/50\n",
      "1887/1887 [==============================] - 126s 67ms/step - loss: 0.8179 - mse: 3.4635\n",
      "Epoch 15/50\n",
      "1887/1887 [==============================] - 128s 68ms/step - loss: 0.7951 - mse: 3.2970\n",
      "Epoch 16/50\n",
      "1887/1887 [==============================] - 130s 69ms/step - loss: 0.7895 - mse: 3.2806\n",
      "Epoch 17/50\n",
      "1887/1887 [==============================] - 122s 65ms/step - loss: 0.7708 - mse: 3.1563\n",
      "Epoch 18/50\n",
      "1887/1887 [==============================] - 112s 60ms/step - loss: 0.7555 - mse: 3.0482\n",
      "Epoch 19/50\n",
      "1887/1887 [==============================] - 111s 59ms/step - loss: 0.7487 - mse: 3.0053\n",
      "Epoch 20/50\n",
      "1887/1887 [==============================] - 112s 59ms/step - loss: 0.7547 - mse: 3.1176\n",
      "Epoch 21/50\n",
      "1887/1887 [==============================] - 110s 59ms/step - loss: 0.7511 - mse: 3.0380\n",
      "Epoch 22/50\n",
      "1887/1887 [==============================] - 111s 59ms/step - loss: 0.7275 - mse: 2.9545\n",
      "Epoch 23/50\n",
      "1887/1887 [==============================] - 111s 59ms/step - loss: 0.7153 - mse: 2.7885\n",
      "Epoch 24/50\n",
      "1887/1887 [==============================] - 111s 59ms/step - loss: 0.7148 - mse: 2.7813\n",
      "Epoch 25/50\n",
      "1887/1887 [==============================] - 111s 59ms/step - loss: 0.7049 - mse: 2.7190\n",
      "Epoch 26/50\n",
      "1887/1887 [==============================] - 109s 58ms/step - loss: 0.7013 - mse: 2.6982\n",
      "Epoch 27/50\n",
      "1887/1887 [==============================] - 111s 59ms/step - loss: 0.6902 - mse: 2.6840\n",
      "Epoch 28/50\n",
      "1887/1887 [==============================] - 109s 58ms/step - loss: 0.6804 - mse: 2.5878\n",
      "Epoch 29/50\n",
      "1887/1887 [==============================] - 108s 57ms/step - loss: 0.6851 - mse: 2.6357\n",
      "Epoch 30/50\n",
      "1887/1887 [==============================] - 109s 58ms/step - loss: 0.6748 - mse: 2.5925\n",
      "Epoch 31/50\n",
      "1887/1887 [==============================] - 108s 57ms/step - loss: 0.6666 - mse: 2.5543\n",
      "Epoch 32/50\n",
      "1887/1887 [==============================] - 109s 58ms/step - loss: 0.6581 - mse: 2.4574\n",
      "Epoch 33/50\n",
      "1887/1887 [==============================] - 109s 58ms/step - loss: 0.6806 - mse: 2.7413\n",
      "Epoch 34/50\n",
      "1887/1887 [==============================] - 110s 58ms/step - loss: 0.6660 - mse: 2.6012\n",
      "Epoch 35/50\n",
      "1887/1887 [==============================] - 110s 58ms/step - loss: 0.6375 - mse: 2.3800\n",
      "Epoch 36/50\n",
      "1887/1887 [==============================] - 111s 59ms/step - loss: 0.6451 - mse: 2.3906\n",
      "Epoch 37/50\n",
      "1887/1887 [==============================] - 109s 58ms/step - loss: 0.6336 - mse: 2.3276\n",
      "Epoch 38/50\n",
      "1887/1887 [==============================] - 110s 58ms/step - loss: 0.6535 - mse: 2.4203\n",
      "Epoch 39/50\n",
      "1887/1887 [==============================] - 110s 58ms/step - loss: 0.6459 - mse: 2.4474\n",
      "Epoch 40/50\n",
      "1887/1887 [==============================] - 112s 59ms/step - loss: 0.6332 - mse: 2.3566\n",
      "Epoch 41/50\n",
      "1887/1887 [==============================] - 114s 60ms/step - loss: 0.6147 - mse: 2.1974\n",
      "Epoch 42/50\n",
      "1887/1887 [==============================] - 111s 59ms/step - loss: 0.6165 - mse: 2.2620\n",
      "Epoch 43/50\n",
      "1887/1887 [==============================] - 112s 59ms/step - loss: 0.6465 - mse: 2.4568\n",
      "Epoch 44/50\n",
      "1887/1887 [==============================] - 111s 59ms/step - loss: 0.6069 - mse: 2.2369\n",
      "Epoch 45/50\n",
      "1887/1887 [==============================] - 114s 60ms/step - loss: 0.6120 - mse: 2.2373\n",
      "Epoch 46/50\n",
      "1887/1887 [==============================] - 111s 59ms/step - loss: 0.6084 - mse: 2.2506\n",
      "Epoch 47/50\n",
      "1887/1887 [==============================] - 107s 57ms/step - loss: 0.6141 - mse: 2.2938\n"
     ]
    },
    {
     "data": {
      "text/plain": [
       "<keras.callbacks.History at 0x19480e85700>"
      ]
     },
     "execution_count": 15,
     "metadata": {},
     "output_type": "execute_result"
    }
   ],
   "source": [
    "RNN_model = keras.Sequential()\n",
    "RNN_model.add(layers.LSTM(128, input_shape=(data_per_batch, attribute), return_sequences=True))\n",
    "RNN_model.add(layers.LSTM(64, return_sequences=True))\n",
    "RNN_model.add(layers.Dense(1, activation='relu'))\n",
    "\n",
    "# Callback stop training when no improvement in loss for 3 consecutive epoch\n",
    "callback = keras.callbacks.EarlyStopping(monitor = \"loss\", mode = \"min\", patience = 3)\n",
    "\n",
    "RNN_model.compile(loss=\"mae\",\n",
    "             optimizer=\"adam\",\n",
    "              metrics=['mse'])\n",
    "\n",
    "RNN_model.summary()\n",
    "RNN_model.fit(train_x, train_y, epochs=50, callbacks=[callback])"
   ]
  },
  {
   "cell_type": "code",
   "execution_count": 16,
   "id": "73aa73dd",
   "metadata": {},
   "outputs": [
    {
     "name": "stdout",
     "output_type": "stream",
     "text": [
      "472/472 [==============================] - 11s 23ms/step\n"
     ]
    }
   ],
   "source": [
    "RNN_prediction = RNN_model.predict(test_x)\n",
    "RNN_prediction = np.reshape(RNN_prediction, (RNN_prediction.shape[0], RNN_prediction.shape[1]))"
   ]
  },
  {
   "cell_type": "code",
   "execution_count": 26,
   "id": "d8c1f181",
   "metadata": {},
   "outputs": [
    {
     "data": {
      "image/png": "[encoded data removed]",
      "text/plain": [
       "<Figure size 720x360 with 1 Axes>"
      ]
     },
     "metadata": {
      "needs_background": "light"
     },
     "output_type": "display_data"
    },
    {
     "data": {
      "image/png": "[encoded data removed]",
      "text/plain": [
       "<Figure size 720x360 with 1 Axes>"
      ]
     },
     "metadata": {
      "needs_background": "light"
     },
     "output_type": "display_data"
    },
    {
     "data": {
      "image/png": "[encoded data removed]",
      "text/plain": [
       "<Figure size 720x360 with 1 Axes>"
      ]
     },
     "metadata": {
      "needs_background": "light"
     },
     "output_type": "display_data"
    },
    {
     "data": {
      "image/png": "[encoded data removed]",
      "text/plain": [
       "<Figure size 720x360 with 1 Axes>"
      ]
     },
     "metadata": {
      "needs_background": "light"
     },
     "output_type": "display_data"
    },
    {
     "data": {
      "image/png": "[encoded data removed]",
      "text/plain": [
       "<Figure size 720x360 with 1 Axes>"
      ]
     },
     "metadata": {
      "needs_background": "light"
     },
     "output_type": "display_data"
    }
   ],
   "source": [
    "# Display five graphs displaying the predicted and actual results\n",
    "for pred in range(5):\n",
    "    plt.figure(figsize = (10,5))\n",
    "    plt.plot(RNN_prediction[pred, :], label=\"predictions\")\n",
    "    plt.plot(test_y[pred, :], label=\"actual\")\n",
    "    leg = plt.legend(loc='upper right')    \n",
    "    plt.show()"
   ]
  },
  {
   "cell_type": "code",
   "execution_count": 18,
   "id": "3d371935",
   "metadata": {},
   "outputs": [
    {
     "name": "stdout",
     "output_type": "stream",
     "text": [
      "MSE of RNN: 2.613951\n",
      "MAE of RNN: 0.6643523\n"
     ]
    }
   ],
   "source": [
    "#print the MSE and MAE value of RNN using test_y \n",
    "print(\"MSE of RNN:\",metrics.mean_squared_error(test_y, RNN_prediction))\n",
    "print(\"MAE of RNN:\",metrics.mean_absolute_error(test_y, RNN_prediction))"
   ]
  },
  {
   "cell_type": "markdown",
   "id": "62052102",
   "metadata": {},
   "source": [
    "---\n",
    "# Experimentation: Can Classical Machine Learning Algorithm Outperform RNN?\n",
    "\n",
    "Nowadays, people often choose to build neural network to solve machine learning problem due to its rising popularity. However, does it always give the best result when compared to classical machine learning algorithm? \n",
    "\n",
    "In the next part of this project, we will build and train classical machine learning algorithm such as **Linear Regression, K-Nearest Neighbour** and **Decision Tree** to find out can these algorithms outperform **Recurrent Neural Network** by having a lower MSE and MAE between the predicted pressure and actual pressure."
   ]
  },
  {
   "cell_type": "markdown",
   "id": "59d0739d",
   "metadata": {},
   "source": [
    "# Reformating the data with original information\n",
    "\n",
    "This section serves to reformat the data for the usage of classical machine learning algorithms which does not take in data in 3-dimensional. Since the data is in a time-series manner, we would need to rearranged this in a way where each variable does not lose its meaning.\n",
    "- Variable: time_step, u_in, u_out\n",
    "\n",
    "Since each 80 data value represent a time series for a patient, we can flatten the 3 variables each with 80 data value into a single row vector and interpret the 3 variables as a single whole variable time step.\n",
    "\n",
    "| time_step | u_in | u_out |\n",
    "| :-: | :-: | :-: |\n",
    "| 0.101 | 18.38 | 0 |\n",
    "| 0.135 | 24.54 | 0 |\n",
    "| $\\vdots$ |$\\vdots$|$\\vdots$|\n",
    "| 2.689 | 12.86 | 1 |\n",
    "\n",
    "<center>$\\downarrow$</center>\n",
    "\n",
    "| time_step_1 | u_in_1 | u_out_1 | time_step_2 | u_in_2 | u_out_2 | $\\ldots$ | time_step_80 | u_in_80 | u_out_80 |\n",
    "| :-: | :-: | :-: | :-: | :-: | :-: | :-: | :-: | :-: | :-: |\n",
    "| 0.101 | 18.38 | 0 | 0.135 | 24.54 | 0 | $\\ldots$ | 2.689 | 12.86 | 1 |"
   ]
  },
  {
   "cell_type": "code",
   "execution_count": 30,
   "id": "7ecc0a65",
   "metadata": {},
   "outputs": [],
   "source": [
    "ori_size = train_x.shape[1]*train_x.shape[2]\n",
    "\n",
    "ori_dataset = np.empty((0, ori_size))\n",
    "for i in range(train_x.shape[0]):\n",
    "    add = np.reshape(train_x[i], (1, ori_size))\n",
    "    ori_dataset = np.append(ori_dataset, add, axis=0) "
   ]
  },
  {
   "cell_type": "code",
   "execution_count": 31,
   "id": "a0a1a5d2",
   "metadata": {},
   "outputs": [],
   "source": [
    "ori_testset = np.empty((0, ori_size))\n",
    "for j in range(test_x.shape[0]):\n",
    "    add1 = np.reshape(test_x[j], (1, ori_size))\n",
    "    ori_testset = np.append(ori_testset, add1, axis=0)"
   ]
  },
  {
   "cell_type": "code",
   "execution_count": 32,
   "id": "6fa27676",
   "metadata": {},
   "outputs": [],
   "source": [
    "train_y = np.reshape(train_y, (train_y.shape[0], train_y.shape[1]))\n",
    "test_y = np.reshape(test_y, (test_y.shape[0], test_y.shape[1]))"
   ]
  },
  {
   "cell_type": "markdown",
   "id": "c1af3de5",
   "metadata": {},
   "source": [
    "# Reformating the data with prior information\n",
    "Since the data is in a time-series manner, the target variable: pressure might be affected by data over a period of time instead of only from a particular time step. Therefore, we also tried to add in data from the prior time steps to train our model. \n",
    "\n",
    "- Variable: time_step, t1_u_in, u_in, diff_u_in, t1_u_out, u_out\n",
    "    - t1_u_in: u_in from 1 time step prior\n",
    "    - diff_u_in: difference of u_in and t1_u_in\n",
    "    - t1_u_out: u_out from 1 time step prior\n",
    "\n",
    "Since each 80 data value represent a time series for a person, we can flatten the 6 variables each with 80 data value into a single row vector and interpret the 6 variables as a single whole variable time step.\n",
    "\n",
    "| time_step | t1_u_in | u_in | diff_u_in | t1_u_out | u_out |\n",
    "| :-: | :-: | :-: | :-: | :-: | :-: |\n",
    "| 0.0000 | 0.0000 | 0.0833 | 0.0833 | 0 | 0 |\n",
    "| 0.0336 | 0.0833 | 18.3830 | 18.2997 | 0 | 0 |\n",
    "| 0.0675 | 18.3830| 22.5092 | 4.1262 | 0 | 0 |\n",
    "|$\\vdots$|$\\vdots$| $\\vdots$ |$\\vdots$|$\\vdots$|$\\vdots$|\n",
    "\n",
    "\n",
    "<center>$\\downarrow$</center>\n",
    "\n",
    "| 1_time_step| 1_t1_u_in | 1_u_in | 1_diff_u_in | 1_t1_u_out | 1_u_out | 2_time_step | 2_t1_u_in | 2_u_in | 2_diff_u_in | $\\ldots$ | 80_diff_u_in | 80_t1_u_out | 80_u_out |\n",
    "| :-: | :-: | :-: | :-: | :-: | :-: | :-: | :-: | :-: | :-: | :-: | :-: | :-: | :-: |\n",
    "|  0.0000 | 0.0000 | 0.0833 | 0.0833 | 0 | 0 | 0.0336 | 0.0833 | 18.3830 | 18.2997 | $\\ldots$ | 0.2101 | 1 | 1 |"
   ]
  },
  {
   "cell_type": "code",
   "execution_count": 33,
   "id": "f1b34de2",
   "metadata": {},
   "outputs": [
    {
     "data": {
      "text/html": [
       "<div>\n",
       "<style scoped>\n",
       "    .dataframe tbody tr th:only-of-type {\n",
       "        vertical-align: middle;\n",
       "    }\n",
       "\n",
       "    .dataframe tbody tr th {\n",
       "        vertical-align: top;\n",
       "    }\n",
       "\n",
       "    .dataframe thead th {\n",
       "        text-align: right;\n",
       "    }\n",
       "</style>\n",
       "<table border=\"1\" class=\"dataframe\">\n",
       "  <thead>\n",
       "    <tr style=\"text-align: right;\">\n",
       "      <th></th>\n",
       "      <th>time_step</th>\n",
       "      <th>t1_u_in</th>\n",
       "      <th>u_in</th>\n",
       "      <th>diff_u_in</th>\n",
       "      <th>t1_u_out</th>\n",
       "      <th>u_out</th>\n",
       "    </tr>\n",
       "  </thead>\n",
       "  <tbody>\n",
       "    <tr>\n",
       "      <th>0</th>\n",
       "      <td>0.000000</td>\n",
       "      <td>0.000000</td>\n",
       "      <td>0.083334</td>\n",
       "      <td>0.083334</td>\n",
       "      <td>0.0</td>\n",
       "      <td>0</td>\n",
       "    </tr>\n",
       "    <tr>\n",
       "      <th>1</th>\n",
       "      <td>0.033652</td>\n",
       "      <td>0.083334</td>\n",
       "      <td>18.383041</td>\n",
       "      <td>18.299707</td>\n",
       "      <td>0.0</td>\n",
       "      <td>0</td>\n",
       "    </tr>\n",
       "    <tr>\n",
       "      <th>2</th>\n",
       "      <td>0.067514</td>\n",
       "      <td>18.383041</td>\n",
       "      <td>22.509278</td>\n",
       "      <td>4.126236</td>\n",
       "      <td>0.0</td>\n",
       "      <td>0</td>\n",
       "    </tr>\n",
       "    <tr>\n",
       "      <th>3</th>\n",
       "      <td>0.101542</td>\n",
       "      <td>22.509278</td>\n",
       "      <td>22.808822</td>\n",
       "      <td>0.299544</td>\n",
       "      <td>0.0</td>\n",
       "      <td>0</td>\n",
       "    </tr>\n",
       "    <tr>\n",
       "      <th>4</th>\n",
       "      <td>0.135756</td>\n",
       "      <td>22.808822</td>\n",
       "      <td>25.355850</td>\n",
       "      <td>2.547028</td>\n",
       "      <td>0.0</td>\n",
       "      <td>0</td>\n",
       "    </tr>\n",
       "    <tr>\n",
       "      <th>...</th>\n",
       "      <td>...</td>\n",
       "      <td>...</td>\n",
       "      <td>...</td>\n",
       "      <td>...</td>\n",
       "      <td>...</td>\n",
       "      <td>...</td>\n",
       "    </tr>\n",
       "    <tr>\n",
       "      <th>6035995</th>\n",
       "      <td>2.504603</td>\n",
       "      <td>1.420711</td>\n",
       "      <td>1.489714</td>\n",
       "      <td>0.069002</td>\n",
       "      <td>1.0</td>\n",
       "      <td>1</td>\n",
       "    </tr>\n",
       "    <tr>\n",
       "      <th>6035996</th>\n",
       "      <td>2.537961</td>\n",
       "      <td>1.489714</td>\n",
       "      <td>1.488497</td>\n",
       "      <td>-0.001217</td>\n",
       "      <td>1.0</td>\n",
       "      <td>1</td>\n",
       "    </tr>\n",
       "    <tr>\n",
       "      <th>6035997</th>\n",
       "      <td>2.571408</td>\n",
       "      <td>1.488497</td>\n",
       "      <td>1.558978</td>\n",
       "      <td>0.070481</td>\n",
       "      <td>1.0</td>\n",
       "      <td>1</td>\n",
       "    </tr>\n",
       "    <tr>\n",
       "      <th>6035998</th>\n",
       "      <td>2.604744</td>\n",
       "      <td>1.558978</td>\n",
       "      <td>1.272663</td>\n",
       "      <td>-0.286315</td>\n",
       "      <td>1.0</td>\n",
       "      <td>1</td>\n",
       "    </tr>\n",
       "    <tr>\n",
       "      <th>6035999</th>\n",
       "      <td>2.638017</td>\n",
       "      <td>1.272663</td>\n",
       "      <td>1.482739</td>\n",
       "      <td>0.210076</td>\n",
       "      <td>1.0</td>\n",
       "      <td>1</td>\n",
       "    </tr>\n",
       "  </tbody>\n",
       "</table>\n",
       "<p>6036000 rows × 6 columns</p>\n",
       "</div>"
      ],
      "text/plain": [
       "         time_step    t1_u_in       u_in  diff_u_in  t1_u_out  u_out\n",
       "0         0.000000   0.000000   0.083334   0.083334       0.0      0\n",
       "1         0.033652   0.083334  18.383041  18.299707       0.0      0\n",
       "2         0.067514  18.383041  22.509278   4.126236       0.0      0\n",
       "3         0.101542  22.509278  22.808822   0.299544       0.0      0\n",
       "4         0.135756  22.808822  25.355850   2.547028       0.0      0\n",
       "...            ...        ...        ...        ...       ...    ...\n",
       "6035995   2.504603   1.420711   1.489714   0.069002       1.0      1\n",
       "6035996   2.537961   1.489714   1.488497  -0.001217       1.0      1\n",
       "6035997   2.571408   1.488497   1.558978   0.070481       1.0      1\n",
       "6035998   2.604744   1.558978   1.272663  -0.286315       1.0      1\n",
       "6035999   2.638017   1.272663   1.482739   0.210076       1.0      1\n",
       "\n",
       "[6036000 rows x 6 columns]"
      ]
     },
     "execution_count": 33,
     "metadata": {},
     "output_type": "execute_result"
    }
   ],
   "source": [
    "# Consider 1 time step prior for u_in and u_out\n",
    "\n",
    "t1_u_in = train_drop['u_in'].shift()\n",
    "t1_u_out = train_drop['u_out'].shift()\n",
    "\n",
    "train_drop.insert(1, \"t1_u_in\", t1_u_in, allow_duplicates=True)\n",
    "train_drop.insert(3, \"t1_u_out\", t1_u_out, allow_duplicates=True)\n",
    "\n",
    "# for missing values(NaN) in the data, fill them with 0\n",
    "train_drop.fillna(0, inplace=True)\n",
    "\n",
    "diff_u_in = train_drop['u_in'] - train_drop['t1_u_in']\n",
    "train_drop.insert(3, \"diff_u_in\", diff_u_in, allow_duplicates=True)\n",
    "\n",
    "X = train_drop.drop(['pressure'], axis=1)\n",
    "X"
   ]
  },
  {
   "cell_type": "code",
   "execution_count": 34,
   "id": "e63c0187",
   "metadata": {},
   "outputs": [],
   "source": [
    "attribute_prior = X.shape[1]\n",
    "\n",
    "training_prior = np.reshape(np.array(X), (index, data_per_batch, attribute_prior))\n",
    "train_x1, test_x1, train_y1, test_y1 = train_test_split(training_prior, target, test_size=0.2, random_state=159)"
   ]
  },
  {
   "cell_type": "code",
   "execution_count": 35,
   "id": "73448f64",
   "metadata": {},
   "outputs": [],
   "source": [
    "prior_size = train_x1.shape[1]*train_x1.shape[2]\n",
    "\n",
    "prior_dataset = np.empty((0, prior_size))\n",
    "for i in range(train_x1.shape[0]):\n",
    "    add2 = np.reshape(train_x1[i], (1, prior_size))\n",
    "    prior_dataset = np.append(prior_dataset, add2, axis=0) \n",
    "    \n",
    "prior_testset = np.empty((0, prior_size))\n",
    "for j in range(test_x1.shape[0]):\n",
    "    add3 = np.reshape(test_x1[j], (1, prior_size))\n",
    "    prior_testset = np.append(prior_testset, add3, axis=0)"
   ]
  },
  {
   "cell_type": "code",
   "execution_count": 36,
   "id": "14355c7b",
   "metadata": {},
   "outputs": [],
   "source": [
    "train_y1 = np.reshape(train_y1, (train_y1.shape[0], train_y1.shape[1]))\n",
    "test_y1 = np.reshape(test_y1, (test_y1.shape[0], test_y1.shape[1]))"
   ]
  },
  {
   "cell_type": "markdown",
   "id": "0f221b7e",
   "metadata": {},
   "source": [
    "---\n",
    "# Building and Training Classical Machine Learning Model\n",
    "\n",
    "Two different datasets will be used to run each algorithm, which are the original dataset and the data with prior information.\n",
    "\n",
    "For each algorithm, we had done a rigorous hyperparameter tuning to obtain the optimal hyperparameter while adapting to the dataset."
   ]
  },
  {
   "attachments": {},
   "cell_type": "markdown",
   "id": "fac73aa8",
   "metadata": {},
   "source": [
    "## 1.1 Linear Regression (Original Data)\n",
    "Linear Regression is one of the most basic predictive analysis for regression problems.\n",
    "The model finds the best fit linear line/plane between the output and every independent variable by iteratively adjusting the linear line/plane closer to the actual output. \n",
    "\n",
    "This can first be done by assuming the target output and the independent variables are linearly related. Hence, adhering to this hypothesis, only may we be able to perform linear regression."
   ]
  },
  {
   "cell_type": "code",
   "execution_count": 37,
   "id": "a92f5ce4",
   "metadata": {
    "scrolled": true
   },
   "outputs": [],
   "source": [
    "# LinearRegression model with default hyperparameter \n",
    "LR_model = LinearRegression(n_jobs=-1)\n",
    "LR_model.fit(ori_dataset, train_y)\n",
    "       \n",
    "LR_prediction = LR_model.predict(ori_testset)"
   ]
  },
  {
   "cell_type": "code",
   "execution_count": 38,
   "id": "ae41debc",
   "metadata": {
    "scrolled": false
   },
   "outputs": [
    {
     "name": "stdout",
     "output_type": "stream",
     "text": [
      "MSE of ori_data before tune: 13.768425483483764\n",
      "MAE of ori_data before tune: 2.0523938557022725\n"
     ]
    }
   ],
   "source": [
    "# Print out the MSE and MAE prediction for Linear Regression using original datasets\n",
    "print(\"MSE of ori_data before tune:\",metrics.mean_squared_error(test_y, LR_prediction))\n",
    "print(\"MAE of ori_data before tune:\",metrics.mean_absolute_error(test_y, LR_prediction))"
   ]
  },
  {
   "cell_type": "code",
   "execution_count": 75,
   "id": "856c5b1a",
   "metadata": {},
   "outputs": [],
   "source": [
    "# Report function to tell results of the hyperparamter tuning\n",
    "# will print out the rank, mean validation score, mean test score and parameters for each iteration\n",
    "def report(results, n_top=3):\n",
    "    for i in range(1, n_top + 1):\n",
    "        candidates = np.flatnonzero(results[\"rank_test_score\"] == i)\n",
    "        for candidate in candidates:\n",
    "            print(\"Rank: {0}\".format(i))\n",
    "            print(\n",
    "                \"Mean validation score: {0:.3f} \".format(\n",
    "                    results[\"mean_test_score\"][candidate],\n",
    "                )\n",
    "            )\n",
    "            print(\"Parameters: {0}\".format(results[\"params\"][candidate]))\n",
    "            print(\"\")"
   ]
  },
  {
   "cell_type": "markdown",
   "id": "81dedba9",
   "metadata": {},
   "source": [
    "###  Hyperparameter Tuning for Linear Regression Using Randomized Search"
   ]
  },
  {
   "cell_type": "code",
   "execution_count": 39,
   "id": "eea066d9",
   "metadata": {},
   "outputs": [
    {
     "name": "stderr",
     "output_type": "stream",
     "text": [
      "C:\\Users\\jingy\\anaconda3\\lib\\site-packages\\sklearn\\model_selection\\_search.py:285: UserWarning: The total space of parameters 4 is smaller than n_iter=20. Running 4 iterations. For exhaustive searches, use GridSearchCV.\n",
      "  warnings.warn(\n"
     ]
    },
    {
     "name": "stdout",
     "output_type": "stream",
     "text": [
      "Time taken:  13.523620367050171 seconds\n",
      "\n",
      "Rank: 1\n",
      "Mean validation score: 0.582 \n",
      "Parameters: {'normalize': True, 'fit_intercept': False}\n",
      "\n",
      "Rank: 1\n",
      "Mean validation score: 0.582 \n",
      "Parameters: {'normalize': False, 'fit_intercept': False}\n",
      "\n",
      "Rank: 3\n",
      "Mean validation score: 0.582 \n",
      "Parameters: {'normalize': False, 'fit_intercept': True}\n",
      "\n"
     ]
    }
   ],
   "source": [
    "# Set the hyperparameters for linear regression algorithm            \n",
    "LR_params = {\n",
    "    #two hyperparameters to be tuned\n",
    "    'fit_intercept': [True, False],\n",
    "    'normalize': [True, False],\n",
    "}\n",
    "\n",
    "LR_rand = RandomizedSearchCV(LR_model, LR_params, n_jobs=-1)\n",
    "start = time()\n",
    "LR_rand.fit(ori_dataset, train_y)\n",
    "print(\"Time taken: \",(time()- start), \"seconds\\n\")\n",
    "report(LR_rand.cv_results_)"
   ]
  },
  {
   "cell_type": "code",
   "execution_count": 39,
   "id": "81c89b06",
   "metadata": {},
   "outputs": [
    {
     "name": "stdout",
     "output_type": "stream",
     "text": [
      "MSE of ori_data after tune: 13.767953601406777\n",
      "MAE of ori_data after tune: 2.053701057607869\n"
     ]
    }
   ],
   "source": [
    "# After hyperparameter tuning, train the model with the best parameters\n",
    "\n",
    "LR_model_tune = LinearRegression(normalize=True, fit_intercept=False)\n",
    "LR_model_tune.fit(ori_dataset, train_y)\n",
    "\n",
    "LR_prediction_tune = LR_model_tune.predict(ori_testset)\n",
    "\n",
    "# Print out the MSE and MAE prediction for Linear Regression using original datasets after tuning\n",
    "print(\"MSE of ori_data after tune:\",metrics.mean_squared_error(test_y, LR_prediction_tune))\n",
    "print(\"MAE of ori_data after tune:\",metrics.mean_absolute_error(test_y, LR_prediction_tune))\n"
   ]
  },
  {
   "cell_type": "markdown",
   "id": "1f879a9d",
   "metadata": {},
   "source": [
    "## 1.2 Linear Regression (Prior Data)"
   ]
  },
  {
   "cell_type": "code",
   "execution_count": 40,
   "id": "8a71b5b3",
   "metadata": {},
   "outputs": [],
   "source": [
    "# LinearRegression model with default hyperparameter \n",
    "LR1_model = LinearRegression(n_jobs=-1)\n",
    "#The model is trained using ori_dataset\n",
    "LR1_model.fit(prior_dataset, train_y1)\n",
    "        \n",
    "LR1_prediction = LR1_model.predict(prior_testset)"
   ]
  },
  {
   "cell_type": "code",
   "execution_count": 41,
   "id": "0f6514d4",
   "metadata": {},
   "outputs": [
    {
     "name": "stdout",
     "output_type": "stream",
     "text": [
      "MSE of prior_data before tune: 13.80645344308986\n",
      "MAE of prior_data before tune: 2.053093480494321\n"
     ]
    }
   ],
   "source": [
    "# Print out the MSE and MAE prediction for Linear Regression using prior datasets\n",
    "print(\"MSE of prior_data before tune:\",metrics.mean_squared_error(test_y1, LR1_prediction))\n",
    "print(\"MAE of prior_data before tune:\",metrics.mean_absolute_error(test_y1, LR1_prediction))"
   ]
  },
  {
   "cell_type": "markdown",
   "id": "7771023c",
   "metadata": {},
   "source": [
    "###  Hyperparameter Tuning for Linear Regression Using Randomized Search"
   ]
  },
  {
   "cell_type": "code",
   "execution_count": 43,
   "id": "3def1be7",
   "metadata": {},
   "outputs": [
    {
     "name": "stderr",
     "output_type": "stream",
     "text": [
      "C:\\Users\\jingy\\anaconda3\\lib\\site-packages\\sklearn\\model_selection\\_search.py:285: UserWarning: The total space of parameters 4 is smaller than n_iter=20. Running 4 iterations. For exhaustive searches, use GridSearchCV.\n",
      "  warnings.warn(\n"
     ]
    },
    {
     "name": "stdout",
     "output_type": "stream",
     "text": [
      "Time taken:  30.59397006034851 seconds\n",
      "\n",
      "Rank: 1\n",
      "Mean validation score: -1120335915699375.375 \n",
      "Parameters: {'normalize': False, 'fit_intercept': True}\n",
      "\n",
      "Rank: 2\n",
      "Mean validation score: -2620920551234201.000 \n",
      "Parameters: {'normalize': True, 'fit_intercept': False}\n",
      "\n",
      "Rank: 2\n",
      "Mean validation score: -2620920551234201.000 \n",
      "Parameters: {'normalize': False, 'fit_intercept': False}\n",
      "\n"
     ]
    }
   ],
   "source": [
    "# Hyperparameter tuning using randomized search\n",
    "\n",
    "LR1_rand = RandomizedSearchCV(LR1_model, LR_params, n_jobs=-1)\n",
    "start = time()\n",
    "LR1_rand.fit(prior_dataset, train_y1)\n",
    "print(\"Time taken: \",(time()- start), \"seconds\\n\")\n",
    "report(LR1_grid.cv_results_)"
   ]
  },
  {
   "cell_type": "code",
   "execution_count": 42,
   "id": "7b6cc3bc",
   "metadata": {},
   "outputs": [
    {
     "name": "stdout",
     "output_type": "stream",
     "text": [
      "MSE of prior_data after tune: 13.80645344308986\n",
      "MAE of prior_data after tune: 2.053093480494321\n"
     ]
    }
   ],
   "source": [
    "# after hyperparameter tuning, train the model with the best parameters\n",
    "\n",
    "LR1_model_tune = LinearRegression(normalize=False, fit_intercept=True, n_jobs=-1)\n",
    "LR1_model_tune.fit(prior_dataset, train_y1)\n",
    "\n",
    "LR1_prediction_tune = LR1_model_tune.predict(prior_testset)\n",
    "\n",
    "#Print out the MSE and MAE prediction for Linear Regression using prior datasets\n",
    "print(\"MSE of prior_data after tune:\",metrics.mean_squared_error(test_y1, LR1_prediction_tune))\n",
    "print(\"MAE of prior_data after tune:\",metrics.mean_absolute_error(test_y1, LR1_prediction_tune))"
   ]
  },
  {
   "cell_type": "markdown",
   "id": "a5d7acd2",
   "metadata": {},
   "source": [
    "## 2.1 K-Nearest Neighbors (Original Data)\n",
    "KNN regression is a non-parametric method which approximates the relationship between independent variables and the continuous outcome by averaging the observations in the same neighbourhood. It uses the kernel functions to weight the neighbors according to their distances. \n",
    "\n",
    "The size of neighborhood can be set through initializing n_neighbor\n",
    "The KNN algorithm is simple to use but it might not be able to generalize unlike other algorithms, as it solely relies on the trained dataset.\n",
    "\n",
    "Hyperparameter of KNN regression is n_neighbor"
   ]
  },
  {
   "cell_type": "code",
   "execution_count": 43,
   "id": "295437ad",
   "metadata": {},
   "outputs": [],
   "source": [
    "# KNN with default hyperparameter of n_neighbour = 5\n",
    "KNN_model = KNeighborsRegressor(n_jobs=-1)\n",
    "KNN_model.fit(ori_dataset, train_y)\n",
    "\n",
    "KNN_prediction = KNN_model.predict(ori_testset)"
   ]
  },
  {
   "cell_type": "code",
   "execution_count": 44,
   "id": "5eee5563",
   "metadata": {},
   "outputs": [
    {
     "name": "stdout",
     "output_type": "stream",
     "text": [
      "MSE of ori_data before tune: 2.9132771\n",
      "MAE of ori_data before tune: 0.7221902\n"
     ]
    }
   ],
   "source": [
    "# Print out the MSE and MAE prediction for Linear Regression using default hyperparameter and prior datasets\n",
    "print(\"MSE of ori_data before tune:\",metrics.mean_squared_error(test_y, KNN_prediction))\n",
    "print(\"MAE of ori_data before tune:\",metrics.mean_absolute_error(test_y, KNN_prediction))"
   ]
  },
  {
   "cell_type": "markdown",
   "id": "eab3c737",
   "metadata": {},
   "source": [
    "###  Hyperparameter Tuning for KNN Using Randomized Search"
   ]
  },
  {
   "cell_type": "code",
   "execution_count": 52,
   "id": "1498797c",
   "metadata": {},
   "outputs": [
    {
     "name": "stdout",
     "output_type": "stream",
     "text": [
      "Time taken:  1466.4191536903381 seconds\n",
      "\n",
      "Rank: 1\n",
      "Mean validation score: 0.861 \n",
      "Parameters: {'weights': 'distance', 'n_neighbors': 5, 'algorithm': 'auto'}\n",
      "\n",
      "Rank: 2\n",
      "Mean validation score: 0.861 \n",
      "Parameters: {'weights': 'distance', 'n_neighbors': 5, 'algorithm': 'ball_tree'}\n",
      "\n",
      "Rank: 3\n",
      "Mean validation score: 0.858 \n",
      "Parameters: {'weights': 'distance', 'n_neighbors': 10, 'algorithm': 'brute'}\n",
      "\n"
     ]
    }
   ],
   "source": [
    "# Hyperparameter tuning using randomized search\n",
    "KNN_params = {\n",
    "    #total of three hyperparameters to be tunes in KNN\n",
    "    'n_neighbors': [5, 10, 15, 20],\n",
    "    'weights': ['uniform', 'distance'],\n",
    "    'algorithm': ['auto', 'ball_tree', 'kd_tree', 'brute']\n",
    "}\n",
    "\n",
    "KNN_rand = RandomizedSearchCV(KNN_model, KNN_params, n_iter=20, n_jobs=-1)\n",
    "start = time()\n",
    "KNN_rand.fit(ori_dataset, train_y)\n",
    "print(\"Time taken: \",(time()- start), \"seconds\\n\")\n",
    "report(KNN_rand.cv_results_)"
   ]
  },
  {
   "cell_type": "code",
   "execution_count": 45,
   "id": "c8458763",
   "metadata": {},
   "outputs": [
    {
     "name": "stdout",
     "output_type": "stream",
     "text": [
      "MSE of ori_data after tune: 2.721204511257389\n",
      "MAE of ori_data after tune: 0.6881319898574473\n"
     ]
    }
   ],
   "source": [
    "# After hyperparameter tuning, train the model with the best parameters\n",
    "\n",
    "KNN_model_tune = KNeighborsRegressor(weights='distance', n_neighbors=5, algorithm='auto', n_jobs=-1)\n",
    "KNN_model_tune.fit(ori_dataset, train_y)\n",
    "\n",
    "KNN_prediction_tune = KNN_model_tune.predict(ori_testset)\n",
    "\n",
    "#Print MSE and MAE value for KNN using original atasets and default hyperparameter after tuning\n",
    "print(\"MSE of ori_data after tune:\",metrics.mean_squared_error(test_y, KNN_prediction_tune))\n",
    "print(\"MAE of ori_data after tune:\",metrics.mean_absolute_error(test_y, KNN_prediction_tune))"
   ]
  },
  {
   "cell_type": "markdown",
   "id": "26774b0b",
   "metadata": {},
   "source": [
    "## 2.2 K-Nearest Neighbors (Prior Data)"
   ]
  },
  {
   "cell_type": "code",
   "execution_count": 46,
   "id": "b5370818",
   "metadata": {},
   "outputs": [],
   "source": [
    "# KNN with default hyperparameter of n_neighbour = 5\n",
    "KNN1_model = KNeighborsRegressor(n_jobs=-1)\n",
    "KNN1_model.fit(prior_dataset, train_y1)\n",
    "        \n",
    "KNN1_prediction = KNN1_model.predict(prior_testset)"
   ]
  },
  {
   "cell_type": "code",
   "execution_count": 47,
   "id": "a1653b1a",
   "metadata": {},
   "outputs": [
    {
     "name": "stdout",
     "output_type": "stream",
     "text": [
      "MSE of prior_data before tune: 2.8527305\n",
      "MAE of prior_data before tune: 0.7174207\n"
     ]
    }
   ],
   "source": [
    "# Print the MSE and MAE value for KNN using prior datasets and default hyperparameters\n",
    "print(\"MSE of prior_data before tune:\",metrics.mean_squared_error(test_y1, KNN1_prediction))\n",
    "print(\"MAE of prior_data before tune:\",metrics.mean_absolute_error(test_y1, KNN1_prediction))"
   ]
  },
  {
   "cell_type": "markdown",
   "id": "27b19476",
   "metadata": {},
   "source": [
    "###  Hyperparameter Tuning for KNN Using Randomized Search"
   ]
  },
  {
   "cell_type": "code",
   "execution_count": 60,
   "id": "20cbe8b3",
   "metadata": {},
   "outputs": [
    {
     "name": "stdout",
     "output_type": "stream",
     "text": [
      "Time taken:  3290.971821784973 seconds\n",
      "\n",
      "Rank: 1\n",
      "Mean validation score: 0.862 \n",
      "Parameters: {'weights': 'distance', 'n_neighbors': 5, 'algorithm': 'ball_tree'}\n",
      "\n",
      "Rank: 1\n",
      "Mean validation score: 0.862 \n",
      "Parameters: {'weights': 'distance', 'n_neighbors': 5, 'algorithm': 'kd_tree'}\n",
      "\n",
      "Rank: 3\n",
      "Mean validation score: 0.862 \n",
      "Parameters: {'weights': 'distance', 'n_neighbors': 5, 'algorithm': 'brute'}\n",
      "\n",
      "Rank: 3\n",
      "Mean validation score: 0.862 \n",
      "Parameters: {'weights': 'distance', 'n_neighbors': 5, 'algorithm': 'auto'}\n",
      "\n"
     ]
    }
   ],
   "source": [
    "KNN1_rand = RandomizedSearchCV(KNN1_model, KNN_params, n_iter=20, n_jobs=-1)\n",
    "start = time()\n",
    "KNN1_rand.fit(prior_dataset, train_y1)\n",
    "print(\"Time taken: \",(time()- start), \"seconds\\n\")\n",
    "report(KNN1_rand.cv_results_)"
   ]
  },
  {
   "cell_type": "code",
   "execution_count": 48,
   "id": "7585e578",
   "metadata": {},
   "outputs": [
    {
     "name": "stdout",
     "output_type": "stream",
     "text": [
      "MSE of prior_data after tune: 2.6703673897045306\n",
      "MAE of prior_data after tune: 0.6860283610478382\n"
     ]
    }
   ],
   "source": [
    "# After hyperparameter tuning, train the model with the best parameters\n",
    "\n",
    "KNN1_model_tune = KNeighborsRegressor(weights='distance', n_neighbors=5, algorithm='auto', n_jobs=-1)\n",
    "KNN1_model_tune.fit(prior_dataset, train_y1)\n",
    "\n",
    "KNN1_prediction_tune = KNN1_model_tune.predict(prior_testset)\n",
    "\n",
    "# Print the MSE and MAE value of KNN using prior datasets after tuning\n",
    "print(\"MSE of prior_data after tune:\",metrics.mean_squared_error(test_y1, KNN1_prediction_tune))\n",
    "print(\"MAE of prior_data after tune:\",metrics.mean_absolute_error(test_y1, KNN1_prediction_tune))"
   ]
  },
  {
   "attachments": {},
   "cell_type": "markdown",
   "id": "891a4556",
   "metadata": {},
   "source": [
    "## 3.1 Decision Tree (Original Data)\n",
    "Decision tree can be used as a regression algorithm in the form of a tree-like structure. The idea of a decision tree is to divide different parameters of different factors/variable to different leaf nodes for the regression. Each parents node will split based on the criterion of relevant features and a conditional statement would be set on each parents nodes.\n",
    "\n",
    "With a particular data point, it is run completely through the entirely tree by answering True/False questions to the conditional statement till it reaches the leaf node. The final prediction is the average of the value of the dependent variable in that particular leaf node."
   ]
  },
  {
   "cell_type": "code",
   "execution_count": 49,
   "id": "23301e45",
   "metadata": {},
   "outputs": [],
   "source": [
    "# DecisionTreeRegressor using the default hyperparameters\n",
    "DT_model = DecisionTreeRegressor()\n",
    "DT_model.fit(ori_dataset, train_y)\n",
    "\n",
    "DT_prediction = DT_model.predict(ori_testset)"
   ]
  },
  {
   "cell_type": "code",
   "execution_count": 50,
   "id": "b02e073e",
   "metadata": {},
   "outputs": [
    {
     "name": "stdout",
     "output_type": "stream",
     "text": [
      "MSE of ori_data before tune: 3.3576505713817255\n",
      "MAE of ori_data before tune: 0.7617585151333863\n"
     ]
    }
   ],
   "source": [
    "# Print the MSE and MAE value for decision tree using original datasets and default hperparameter\n",
    "print(\"MSE of ori_data before tune:\",metrics.mean_squared_error(test_y, DT_prediction))\n",
    "print(\"MAE of ori_data before tune:\",metrics.mean_absolute_error(test_y, DT_prediction))"
   ]
  },
  {
   "cell_type": "markdown",
   "id": "c2badd3a",
   "metadata": {},
   "source": [
    "###  Hyperparameter Tuning for Decision Tree Using Randomized Search"
   ]
  },
  {
   "cell_type": "code",
   "execution_count": 34,
   "id": "3bfb560c",
   "metadata": {},
   "outputs": [
    {
     "name": "stdout",
     "output_type": "stream",
     "text": [
      "Time taken:  327.4671621322632 seconds\n",
      "\n",
      "Rank: 1\n",
      "Mean validation score: 0.840 \n",
      "Parameters: {'splitter': 'best', 'min_samples_leaf': 6, 'max_depth': 19}\n",
      "\n",
      "Rank: 2\n",
      "Mean validation score: 0.839 \n",
      "Parameters: {'splitter': 'best', 'min_samples_leaf': 5, 'max_depth': 18}\n",
      "\n",
      "Rank: 3\n",
      "Mean validation score: 0.839 \n",
      "Parameters: {'splitter': 'best', 'min_samples_leaf': 6, 'max_depth': 17}\n",
      "\n"
     ]
    }
   ],
   "source": [
    "DT_params = {\n",
    "    # Total of three hyperparameters to be tuned in decision tree\n",
    "    'splitter': ['best', 'random'],\n",
    "    'max_depth': range(1, 20),\n",
    "    'min_samples_leaf': range(1, 10),\n",
    "}\n",
    "\n",
    "DT_rand = RandomizedSearchCV(DT_model, DT_params, n_iter=20, n_jobs=-1)\n",
    "start = time()\n",
    "DT_rand.fit(ori_dataset, train_y)\n",
    "print(\"Time taken: \",(time()- start), \"seconds\\n\")\n",
    "report(DT_rand.cv_results_)"
   ]
  },
  {
   "cell_type": "code",
   "execution_count": 51,
   "id": "382a2825",
   "metadata": {},
   "outputs": [
    {
     "name": "stdout",
     "output_type": "stream",
     "text": [
      "MSE of ori_data after tune: 2.8479582120793756\n",
      "MAE of ori_data after tune: 0.7307613398967063\n"
     ]
    }
   ],
   "source": [
    "# After hyperparameter tuning, train the model with the best parameters\n",
    "\n",
    "DT_model_tune = DecisionTreeRegressor(splitter='best', min_samples_leaf=6, max_depth=19)\n",
    "DT_model_tune.fit(ori_dataset, train_y)\n",
    "\n",
    "DT_prediction_tune = DT_model_tune.predict(ori_testset)\n",
    "\n",
    "# Print the MSE and MAE value of decision tree using original datasets and default hyperparameter after tuning\n",
    "print(\"MSE of ori_data after tune:\",metrics.mean_squared_error(test_y, DT_prediction_tune))\n",
    "print(\"MAE of ori_data after tune:\",metrics.mean_absolute_error(test_y, DT_prediction_tune))"
   ]
  },
  {
   "cell_type": "markdown",
   "id": "e51930d3",
   "metadata": {},
   "source": [
    "## 3.2 Decision Tree (Prior Data)"
   ]
  },
  {
   "cell_type": "code",
   "execution_count": 52,
   "id": "087e27e0",
   "metadata": {},
   "outputs": [],
   "source": [
    "# Decision Tree algorithm using the default hyperparameters\n",
    "DT1_model = DecisionTreeRegressor()\n",
    "DT1_model.fit(prior_dataset, train_y1)\n",
    "        \n",
    "DT1_prediction = DT1_model.predict(prior_testset)"
   ]
  },
  {
   "cell_type": "code",
   "execution_count": 53,
   "id": "60d12ff1",
   "metadata": {},
   "outputs": [
    {
     "name": "stdout",
     "output_type": "stream",
     "text": [
      "MSE of prior_data before tune: 2.818976535491351\n",
      "MAE of prior_data before tune: 0.71892696763936\n"
     ]
    }
   ],
   "source": [
    "# Print the MSE and MAE value of decision tree using original datasets and default parameters\n",
    "print(\"MSE of prior_data before tune:\",metrics.mean_squared_error(test_y1, DT1_prediction))\n",
    "print(\"MAE of prior_data before tune:\",metrics.mean_absolute_error(test_y1, DT1_prediction))"
   ]
  },
  {
   "cell_type": "markdown",
   "id": "eefe2413",
   "metadata": {},
   "source": [
    "###  Hyperparameter Tuning for Decision Tree Using Randomized Search"
   ]
  },
  {
   "cell_type": "code",
   "execution_count": 40,
   "id": "31585868",
   "metadata": {
    "scrolled": true
   },
   "outputs": [
    {
     "name": "stdout",
     "output_type": "stream",
     "text": [
      "Time taken:  823.7341561317444 seconds\n",
      "\n",
      "Rank: 1\n",
      "Mean validation score: 0.842 \n",
      "Parameters: {'splitter': 'best', 'min_samples_leaf': 6, 'max_depth': 19}\n",
      "\n",
      "Rank: 2\n",
      "Mean validation score: 0.840 \n",
      "Parameters: {'splitter': 'best', 'min_samples_leaf': 8, 'max_depth': 19}\n",
      "\n",
      "Rank: 3\n",
      "Mean validation score: 0.838 \n",
      "Parameters: {'splitter': 'random', 'min_samples_leaf': 7, 'max_depth': 15}\n",
      "\n"
     ]
    }
   ],
   "source": [
    "DT1_rand = RandomizedSearchCV(DT1_model, DT_params, n_iter=20, n_jobs=-1)\n",
    "start = time()\n",
    "DT1_rand.fit(prior_dataset, train_y1)\n",
    "print(\"Time taken: \",(time()- start), \"seconds\\n\")\n",
    "report(DT1_rand.cv_results_)"
   ]
  },
  {
   "cell_type": "code",
   "execution_count": 54,
   "id": "a42faeca",
   "metadata": {},
   "outputs": [
    {
     "name": "stdout",
     "output_type": "stream",
     "text": [
      "MSE of prior_data after tune: 2.5187479557201256\n",
      "MAE of prior_data after tune: 0.7038854659806197\n"
     ]
    }
   ],
   "source": [
    "# After hyperparameter tuning, train the model with the best parameters\n",
    "\n",
    "DT1_model_tune = DecisionTreeRegressor(splitter='best', min_samples_leaf=6, max_depth=19)\n",
    "DT1_model_tune.fit(prior_dataset, train_y1)\n",
    "\n",
    "DT1_prediction_tune = DT1_model_tune.predict(prior_testset)\n",
    "\n",
    "# Print the MSE and MAE value of decision tree using original datasets and default hyperparameters after tuning\n",
    "print(\"MSE of prior_data after tune:\",metrics.mean_squared_error(test_y1, DT1_prediction_tune))\n",
    "print(\"MAE of prior_data after tune:\",metrics.mean_absolute_error(test_y1, DT1_prediction_tune))"
   ]
  },
  {
   "cell_type": "markdown",
   "id": "352f6e50",
   "metadata": {},
   "source": [
    "***\n",
    "From the three algorithm above, **Decision Tree** gives the best performance with the lowest MSE of 2.5221 and lowest MAE of 0.7047.\n",
    "\n",
    "Hence, we decided to implement tree based ensemble machine learning algorithm: **Random Forest, XGBoost** and **CatBoost** to obtain even better performance. "
   ]
  },
  {
   "attachments": {},
   "cell_type": "markdown",
   "id": "58f8c25e",
   "metadata": {},
   "source": [
    "## 4.1 Random Forest (Original Data)\n",
    "\n",
    " Random Forest is a technique that utilises ensemble learning. It works by choosing a random training sample for training a decision tree and create a collection of individual trained predictors to solve the regression problem (Bagging). In a simple way, it uses many decision trees to solve a complex regression problem.\n",
    "\n",
    " It predicts by taking the average or mean of the output of many trees. It is more accurate than Decision Tree Learning as it can handle missing data effectively and solves overfitting.\n",
    " \n",
    " Its hyperparameter is max_depth and n-estimators"
   ]
  },
  {
   "cell_type": "code",
   "execution_count": 55,
   "id": "cac9a49b",
   "metadata": {},
   "outputs": [],
   "source": [
    "# Random Forest algorithm using the default hyperparaemter of n_estimators = 5\n",
    "RF_model = RandomForestRegressor(n_estimators = 5, n_jobs=-1, random_state=0)\n",
    "RF_model.fit(ori_dataset, train_y)\n",
    "\n",
    "RF_prediction = RF_model.predict(ori_testset)"
   ]
  },
  {
   "cell_type": "code",
   "execution_count": 56,
   "id": "e410ddec",
   "metadata": {},
   "outputs": [
    {
     "name": "stdout",
     "output_type": "stream",
     "text": [
      "MSE of ori_data before tune: 1.882336508418001\n",
      "MAE of ori_data before tune: 0.635988619558972\n"
     ]
    }
   ],
   "source": [
    "# Print the MSE and MAE value for random forest using original datasets\n",
    "print(\"MSE of ori_data before tune:\",metrics.mean_squared_error(test_y, RF_prediction))\n",
    "print(\"MAE of ori_data before tune:\",metrics.mean_absolute_error(test_y, RF_prediction))"
   ]
  },
  {
   "cell_type": "markdown",
   "id": "e665bdc5",
   "metadata": {},
   "source": [
    "###  Hyperparameter Tuning for Random Forest Using Randomized Search"
   ]
  },
  {
   "cell_type": "code",
   "execution_count": 76,
   "id": "d45d2c35",
   "metadata": {},
   "outputs": [
    {
     "name": "stdout",
     "output_type": "stream",
     "text": [
      "Time taken:  16155.426671504974 seconds\n",
      "\n",
      "Rank: 1\n",
      "Mean validation score: 0.902 \n",
      "Parameters: {'n_estimators': 30, 'min_samples_leaf': 1, 'max_leaf_nodes': None}\n",
      "\n",
      "Rank: 2\n",
      "Mean validation score: 0.899 \n",
      "Parameters: {'n_estimators': 20, 'min_samples_leaf': 2, 'max_leaf_nodes': None}\n",
      "\n",
      "Rank: 3\n",
      "Mean validation score: 0.897 \n",
      "Parameters: {'n_estimators': 25, 'min_samples_leaf': 3, 'max_leaf_nodes': None}\n",
      "\n"
     ]
    }
   ],
   "source": [
    "RF_model = RandomForestRegressor()\n",
    "\n",
    "RF_params = {\n",
    "    # Total of three hyperparameters to be tuned\n",
    "    'n_estimators': [10, 20, 25, 30],\n",
    "    'max_leaf_nodes': [None, 10, 20],\n",
    "    'min_samples_leaf': range(1, 5),\n",
    "}\n",
    "RF_rand = RandomizedSearchCV(RF_model, RF_params, n_iter=20, n_jobs=-1)\n",
    "start = time()\n",
    "RF_rand.fit(ori_dataset, train_y)\n",
    "print(\"Time taken: \",(time()- start), \"seconds\\n\")\n",
    "report(RF_rand.cv_results_)"
   ]
  },
  {
   "cell_type": "code",
   "execution_count": 57,
   "id": "cff09465",
   "metadata": {},
   "outputs": [
    {
     "name": "stdout",
     "output_type": "stream",
     "text": [
      "MSE of ori_data after tune: 1.4253954961161313\n",
      "MAE of ori_data after tune: 0.5624255809074221\n"
     ]
    }
   ],
   "source": [
    "# After hyperparameter tuning, train the model with the best parameters\n",
    "\n",
    "RF_model_tune = RandomForestRegressor(n_estimators=30, min_samples_leaf=1, max_leaf_nodes=None, n_jobs=-1)\n",
    "RF_model_tune.fit(ori_dataset, train_y)\n",
    "\n",
    "RF_prediction_tune = RF_model_tune.predict(ori_testset)\n",
    "\n",
    "# Print the MSE and MAE value for random forest using original datasets after tuning\n",
    "print(\"MSE of ori_data after tune:\",metrics.mean_squared_error(test_y, RF_prediction_tune))\n",
    "print(\"MAE of ori_data after tune:\",metrics.mean_absolute_error(test_y, RF_prediction_tune))"
   ]
  },
  {
   "cell_type": "markdown",
   "id": "3cb903ae",
   "metadata": {},
   "source": [
    "## 4.2 Random Forest (Prior Data)"
   ]
  },
  {
   "cell_type": "code",
   "execution_count": 58,
   "id": "1448ff10",
   "metadata": {},
   "outputs": [],
   "source": [
    "# Random Forest algorithm using the default hyperparameter n_estimators = 5\n",
    "RF1_model = RandomForestRegressor(n_estimators = 5, n_jobs=-1, random_state=0)\n",
    "#fit prior_dataset and train_y1 into the random forest model\n",
    "RF1_model.fit(prior_dataset, train_y1)\n",
    "\n",
    "RF1_prediction = RF1_model.predict(prior_testset)"
   ]
  },
  {
   "cell_type": "code",
   "execution_count": 59,
   "id": "56aae792",
   "metadata": {},
   "outputs": [
    {
     "name": "stdout",
     "output_type": "stream",
     "text": [
      "MSE of prior_data before tune: 1.5241724688505518\n",
      "MAE of prior_data before tune: 0.5935518408500315\n"
     ]
    }
   ],
   "source": [
    "# Print the MSE and MAE value for random forest using prior datasets\n",
    "print(\"MSE of prior_data before tune:\",metrics.mean_squared_error(test_y1, RF1_prediction))\n",
    "print(\"MAE of prior_data before tune:\",metrics.mean_absolute_error(test_y1, RF1_prediction))"
   ]
  },
  {
   "cell_type": "markdown",
   "id": "69e314ea",
   "metadata": {},
   "source": [
    "###  Hyperparameter Tuning for Random Forest Using Randomized Search"
   ]
  },
  {
   "cell_type": "code",
   "execution_count": 26,
   "id": "0e6ab199",
   "metadata": {},
   "outputs": [
    {
     "name": "stdout",
     "output_type": "stream",
     "text": [
      "Time taken:  12023.6615691185 seconds\n",
      "\n",
      "Rank: 1\n",
      "Mean validation score: 0.911 \n",
      "Parameters: {'n_estimators': 25, 'min_samples_leaf': 1, 'max_leaf_nodes': None}\n",
      "\n",
      "Rank: 2\n",
      "Mean validation score: 0.910 \n",
      "Parameters: {'n_estimators': 20, 'min_samples_leaf': 1, 'max_leaf_nodes': None}\n",
      "\n",
      "Rank: 3\n",
      "Mean validation score: 0.909 \n",
      "Parameters: {'n_estimators': 30, 'min_samples_leaf': 2, 'max_leaf_nodes': None}\n",
      "\n"
     ]
    }
   ],
   "source": [
    "RF1_model = RandomForestRegressor()\n",
    "RF1_rand = RandomizedSearchCV(RF1_model, RF_params, n_iter=20, n_jobs=-1)\n",
    "start = time()\n",
    "RF1_rand.fit(prior_dataset, train_y1)\n",
    "print(\"Time taken: \",(time()- start), \"seconds\\n\")\n",
    "report(RF1_rand.cv_results_)"
   ]
  },
  {
   "cell_type": "code",
   "execution_count": 60,
   "id": "f7dac062",
   "metadata": {},
   "outputs": [
    {
     "name": "stdout",
     "output_type": "stream",
     "text": [
      "MSE of prior_data after tune: 1.1571372341090753\n",
      "MAE of prior_data after tune: 0.5202708897141342\n"
     ]
    }
   ],
   "source": [
    "# After hyperparameter tuning, train the model with the best parameters\n",
    "\n",
    "RF1_model_tune = RandomForestRegressor(n_estimators=25, min_samples_leaf=1, max_leaf_nodes=None, n_jobs=-1)\n",
    "RF1_model_tune.fit(prior_dataset, train_y1)\n",
    "\n",
    "RF1_prediction_tune = RF1_model_tune.predict(prior_testset)\n",
    "\n",
    "#print the MSE and MAE value for random forest using prior datasets after tuning\n",
    "print(\"MSE of prior_data after tune:\",metrics.mean_squared_error(test_y1, RF1_prediction_tune))\n",
    "print(\"MAE of prior_data after tune:\",metrics.mean_absolute_error(test_y1, RF1_prediction_tune))"
   ]
  },
  {
   "attachments": {},
   "cell_type": "markdown",
   "id": "2d16fe72",
   "metadata": {},
   "source": [
    "## 5 XGBoost (Original Data)\n",
    "\n",
    "XGBoost is also a tree based ensemble machine learning algorithm but with a little twist to it. This algorithm adapted some restrictions to the making process of the decision tree. The restrictions impose that each decision tree must be a weak learners. Moreover, each decision trees are learned sequentially from the early decision trees by solving the net error from the prior decision tree. In other words, each decision trees is sequentially improving as it corrects the errors of its prior decision tree. The combinations of these decision trees is called Boosting, which is the key to this algorithm. Each decision trees would also result in an asymmetric trees. XGBoost build asymmetric trees."
   ]
  },
  {
   "cell_type": "code",
   "execution_count": 61,
   "id": "9bdf37d0",
   "metadata": {},
   "outputs": [],
   "source": [
    "# XGBoost model with the optimal hyperparameter\n",
    "XGB_model = MultiOutputRegressor(XGBRegressor(objective='reg:squarederror', n_estimators=15, max_depth=10, n_jobs=-1))"
   ]
  },
  {
   "cell_type": "code",
   "execution_count": 62,
   "id": "51cc3b42",
   "metadata": {},
   "outputs": [],
   "source": [
    "XGB_model.fit(ori_dataset, train_y)\n",
    "XGB_prediction = XGB_model.predict(ori_testset)"
   ]
  },
  {
   "cell_type": "code",
   "execution_count": 63,
   "id": "8c9be67d",
   "metadata": {},
   "outputs": [
    {
     "name": "stdout",
     "output_type": "stream",
     "text": [
      "MSE of ori_data: 1.671566\n",
      "MAE of ori_data: 0.64282024\n"
     ]
    }
   ],
   "source": [
    "# Print the MSE and MAE value for XGBoost using original datasets\n",
    "print(\"MSE of ori_data:\",metrics.mean_squared_error(test_y, XGB_prediction))\n",
    "print(\"MAE of ori_data:\",metrics.mean_absolute_error(test_y, XGB_prediction))"
   ]
  },
  {
   "cell_type": "markdown",
   "id": "6c0facf6",
   "metadata": {},
   "source": [
    "## 5.2 XGBoost (Prior Data)"
   ]
  },
  {
   "cell_type": "code",
   "execution_count": 64,
   "id": "5983830e",
   "metadata": {},
   "outputs": [],
   "source": [
    "# XGBoost model with the optimal hyperparameter\n",
    "XGB1_model = MultiOutputRegressor(XGBRegressor(objective='reg:squarederror', n_estimators=15, max_depth=10, n_jobs=-1))"
   ]
  },
  {
   "cell_type": "code",
   "execution_count": 65,
   "id": "aa3f6528",
   "metadata": {},
   "outputs": [],
   "source": [
    "XGB1_model.fit(prior_dataset, train_y1)\n",
    "XGB1_prediction = XGB1_model.predict(prior_testset)"
   ]
  },
  {
   "cell_type": "code",
   "execution_count": 66,
   "id": "92b80fc7",
   "metadata": {},
   "outputs": [
    {
     "name": "stdout",
     "output_type": "stream",
     "text": [
      "MSE of prior_data: 1.3550031\n",
      "MAE of prior_data: 0.5959815\n"
     ]
    }
   ],
   "source": [
    "# Print the MSE and MAE value for XGBoost using prior datasets\n",
    "print(\"MSE of prior_data:\",metrics.mean_squared_error(test_y1, XGB1_prediction))\n",
    "print(\"MAE of prior_data:\",metrics.mean_absolute_error(test_y1, XGB1_prediction))"
   ]
  },
  {
   "attachments": {},
   "cell_type": "markdown",
   "id": "cb0407c5",
   "metadata": {},
   "source": [
    "## 6a) CatBoost (Original data)\n",
    "\n",
    "Catboost is also a tree based ensemble machine learning algorithm and a variant of the XGBoost. It builds symmetric trees instead which is very stable as the resulting qualities does not change alot during hyperparameter tuning."
   ]
  },
  {
   "cell_type": "code",
   "execution_count": 67,
   "id": "38fd52f4",
   "metadata": {},
   "outputs": [
    {
     "name": "stdout",
     "output_type": "stream",
     "text": [
      "0:\tlearn: 39.5684175\ttotal: 36.9s\tremaining: 14m 45s\n",
      "1:\tlearn: 33.3152925\ttotal: 1m 9s\tremaining: 13m 18s\n",
      "2:\tlearn: 29.0004514\ttotal: 1m 41s\tremaining: 12m 27s\n",
      "3:\tlearn: 26.1444154\ttotal: 2m 14s\tremaining: 11m 45s\n",
      "4:\tlearn: 24.3282671\ttotal: 2m 46s\tremaining: 11m 7s\n",
      "5:\tlearn: 22.8687732\ttotal: 3m 21s\tremaining: 10m 38s\n",
      "6:\tlearn: 21.8431486\ttotal: 3m 54s\tremaining: 10m 4s\n",
      "7:\tlearn: 20.8656307\ttotal: 4m 27s\tremaining: 9m 28s\n",
      "8:\tlearn: 20.1238163\ttotal: 5m\tremaining: 8m 53s\n",
      "9:\tlearn: 19.5726746\ttotal: 5m 31s\tremaining: 8m 17s\n",
      "10:\tlearn: 19.0290181\ttotal: 6m 4s\tremaining: 7m 44s\n",
      "11:\tlearn: 18.6309345\ttotal: 6m 37s\tremaining: 7m 10s\n",
      "12:\tlearn: 18.3295002\ttotal: 7m 10s\tremaining: 6m 37s\n",
      "13:\tlearn: 17.9822413\ttotal: 7m 45s\tremaining: 6m 5s\n",
      "14:\tlearn: 17.7273431\ttotal: 8m 21s\tremaining: 5m 34s\n",
      "15:\tlearn: 17.4802953\ttotal: 8m 56s\tremaining: 5m 1s\n",
      "16:\tlearn: 17.2383931\ttotal: 9m 32s\tremaining: 4m 29s\n",
      "17:\tlearn: 16.9609069\ttotal: 10m 4s\tremaining: 3m 55s\n",
      "18:\tlearn: 16.8109677\ttotal: 10m 36s\tremaining: 3m 21s\n",
      "19:\tlearn: 16.5733937\ttotal: 11m 8s\tremaining: 2m 47s\n",
      "20:\tlearn: 16.3511172\ttotal: 11m 41s\tremaining: 2m 13s\n",
      "21:\tlearn: 16.1480704\ttotal: 12m 14s\tremaining: 1m 40s\n",
      "22:\tlearn: 16.0219704\ttotal: 12m 46s\tremaining: 1m 6s\n",
      "23:\tlearn: 15.9273197\ttotal: 13m 17s\tremaining: 33.2s\n",
      "24:\tlearn: 15.7225509\ttotal: 13m 51s\tremaining: 0us\n"
     ]
    }
   ],
   "source": [
    "# CatBoost model with the optimal hyperparameter\n",
    "CB_model = CatBoostRegressor(depth=10, iterations=25, learning_rate=0.3, loss_function='MultiRMSE', eval_metric='MultiRMSE')\n",
    "CB_model.fit(ori_dataset, train_y)\n",
    "\n",
    "CB_prediction = CB_model.predict(ori_testset)"
   ]
  },
  {
   "cell_type": "code",
   "execution_count": 68,
   "id": "c5fbd7ff",
   "metadata": {},
   "outputs": [
    {
     "name": "stdout",
     "output_type": "stream",
     "text": [
      "MSE of ori_data: 3.3445849680788493\n",
      "MAE of ori_data: 0.9817844342073039\n"
     ]
    }
   ],
   "source": [
    "# Print the MSE and MAE value for CatBoost using original datasets\n",
    "print(\"MSE of ori_data:\",metrics.mean_squared_error(test_y, CB_prediction))\n",
    "print(\"MAE of ori_data:\",metrics.mean_absolute_error(test_y, CB_prediction))"
   ]
  },
  {
   "cell_type": "markdown",
   "id": "07b60ecd",
   "metadata": {},
   "source": [
    "## 6b) CatBoost (Prior data)"
   ]
  },
  {
   "cell_type": "code",
   "execution_count": 69,
   "id": "f1efc2a7",
   "metadata": {},
   "outputs": [
    {
     "name": "stdout",
     "output_type": "stream",
     "text": [
      "0:\tlearn: 38.8254558\ttotal: 1m 6s\tremaining: 26m 44s\n",
      "1:\tlearn: 32.5543991\ttotal: 2m 10s\tremaining: 25m 2s\n",
      "2:\tlearn: 28.3092955\ttotal: 3m 16s\tremaining: 24m\n",
      "3:\tlearn: 25.2356232\ttotal: 4m 21s\tremaining: 22m 51s\n",
      "4:\tlearn: 22.9423520\ttotal: 5m 28s\tremaining: 21m 52s\n",
      "5:\tlearn: 21.3232807\ttotal: 6m 33s\tremaining: 20m 46s\n",
      "6:\tlearn: 20.1574378\ttotal: 7m 40s\tremaining: 19m 44s\n",
      "7:\tlearn: 19.3193571\ttotal: 8m 45s\tremaining: 18m 35s\n",
      "8:\tlearn: 18.5705680\ttotal: 9m 48s\tremaining: 17m 26s\n",
      "9:\tlearn: 17.9134663\ttotal: 11m 2s\tremaining: 16m 33s\n",
      "10:\tlearn: 17.2326039\ttotal: 12m 11s\tremaining: 15m 30s\n",
      "11:\tlearn: 16.8569884\ttotal: 13m 13s\tremaining: 14m 20s\n",
      "12:\tlearn: 16.5493168\ttotal: 14m 16s\tremaining: 13m 10s\n",
      "13:\tlearn: 16.1777425\ttotal: 15m 21s\tremaining: 12m 4s\n",
      "14:\tlearn: 15.8091525\ttotal: 16m 29s\tremaining: 10m 59s\n",
      "15:\tlearn: 15.5636342\ttotal: 17m 35s\tremaining: 9m 53s\n",
      "16:\tlearn: 15.2792636\ttotal: 18m 43s\tremaining: 8m 48s\n",
      "17:\tlearn: 15.0869365\ttotal: 19m 49s\tremaining: 7m 42s\n",
      "18:\tlearn: 14.8686070\ttotal: 20m 57s\tremaining: 6m 37s\n",
      "19:\tlearn: 14.6313033\ttotal: 22m 2s\tremaining: 5m 30s\n",
      "20:\tlearn: 14.3885578\ttotal: 23m 7s\tremaining: 4m 24s\n",
      "21:\tlearn: 14.1830077\ttotal: 24m 15s\tremaining: 3m 18s\n",
      "22:\tlearn: 14.0561239\ttotal: 25m 19s\tremaining: 2m 12s\n",
      "23:\tlearn: 13.8647971\ttotal: 26m 23s\tremaining: 1m 5s\n",
      "24:\tlearn: 13.6374578\ttotal: 27m 34s\tremaining: 0us\n"
     ]
    }
   ],
   "source": [
    "# CatBoost model with optimal hyperparameter\n",
    "CB1_model = CatBoostRegressor(depth=10, iterations=25, learning_rate=0.3, loss_function='MultiRMSE', eval_metric='MultiRMSE')\n",
    "CB1_model.fit(prior_dataset, train_y1)\n",
    "\n",
    "CB1_prediction = CB1_model.predict(prior_testset)"
   ]
  },
  {
   "cell_type": "code",
   "execution_count": 70,
   "id": "aef13337",
   "metadata": {},
   "outputs": [
    {
     "name": "stdout",
     "output_type": "stream",
     "text": [
      "MSE of prior_data: 2.5568879180326887\n",
      "MAE of prior_data: 0.874705864767021\n"
     ]
    }
   ],
   "source": [
    "# Print the MSE and MAE value of CatBoost using prior datasets\n",
    "print(\"MSE of prior_data:\",metrics.mean_squared_error(test_y1, CB1_prediction))\n",
    "print(\"MAE of prior_data:\",metrics.mean_absolute_error(test_y1, CB1_prediction))"
   ]
  },
  {
   "cell_type": "markdown",
   "id": "b77856d9",
   "metadata": {},
   "source": [
    "***\n",
    "# Results\n",
    "\n",
    "We had used three different types of processed data to train our models which are:\n",
    "- (a) Dataset with no prior time step and no flattening 80 rows into one row\n",
    "- (b) Dataset with no prior time step but with flattening 80 rows into one row\n",
    "- (c) Dataset that consider 1 time step prior and flattening 80 rows into one row\n",
    "\n",
    "The Mean Squared Error (MSE) and Mean Absoulute Error (MAE) for each algorithm are summarized into the table below."
   ]
  },
  {
   "attachments": {
    "image-5.png": {
     "image/png": "[encoded data removed]"
    }
   },
   "cell_type": "markdown",
   "id": "eca2c7c6",
   "metadata": {},
   "source": [
    "![image-5.png](attachment:image-5.png)\n",
    "\n",
    "The results in the above table shows that the models performance are improving and get the best result with dataset (c).\n",
    "Hence, we can conclude that feature engineering is very critical to improve our model performance for classical machine learning algorithm.\n",
    "\n",
    "Besides, **Random Forest** and **XGBoost** had outperform **Recurrent Neural Network** in solving this Covid-19 ventilator control problem which proves to us that neural network does not always offer the best solution."
   ]
  },
  {
   "cell_type": "markdown",
   "id": "27d1a285",
   "metadata": {},
   "source": [
    "---\n",
    "# Discussion\n",
    "\n",
    "## 1. An Unfair Comparison\n",
    "Although from the results above we had concluded that the **Recurrent Neural Network** does not give the best performance, it is important to note that this conclusion might not always be True due to our limitations: time constraint and computational power. \n",
    "  \n",
    "With hyperparameter tuning such as the number of epochs, number of neurons used in a layer, **Recurrent Neural Network** might give a better performance. However, such operations are computationally expensive and time consuming.\n",
    "\n",
    "## 2. Performance of Linear Regression\n",
    "**Linear Regression** is highly sensitive to the range of the data points. However, in this project we did not scale our data to zero mean and unit variance. Therefore, it is expected that **Linear Regression** gives the worst performance.\n",
    "\n",
    "\n",
    "## 3. Performance of Tree Based Model\n",
    "**Decision Tree, Random Forest, XGBoost** and **CatBoost** give a good performance in general while solving this Covid-19 ventilator control problem. This is because tree based model can work well with little data preparation. Hence, the unscaled data did not affect the model performance."
   ]
  },
  {
   "cell_type": "code",
   "execution_count": null,
   "id": "ffb8e1e7",
   "metadata": {},
   "outputs": [],
   "source": []
  }
 ],
 "metadata": {
  "kernelspec": {
   "display_name": "Python 3 (ipykernel)",
   "language": "python",
   "name": "python3"
  },
  "language_info": {
   "codemirror_mode": {
    "name": "ipython",
    "version": 3
   },
   "file_extension": ".py",
   "mimetype": "text/x-python",
   "name": "python",
   "nbconvert_exporter": "python",
   "pygments_lexer": "ipython3",
   "version": "3.10.11"
  }
 },
 "nbformat": 4,
 "nbformat_minor": 5
}
